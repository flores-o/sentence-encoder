{
  "cells": [
    {
      "cell_type": "markdown",
      "metadata": {
        "id": "Woz3kK6I9usc"
      },
      "source": [
        "# Instructions for running the notebook. Thank you :)\n",
        "\n",
        "**Step 1.**\n",
        "Open shared folder [nlp_lib](https://drive.google.com/drive/folders/1ZkF4hnx3siKBlB7j6pElsBY-TfC3n1JE?usp=sharing)\n",
        "\n",
        "**Step 2.** Add Shortcut to \"My Drive\".\n",
        "* See steps [here](https://github.com/googlecolab/colabtools/issues/1694#issuecomment-723894598) or video tutorial [here](https://youtu.be/DyOC7p41RJQ).\n",
        "\n",
        "\n",
        "**Step 3.** Mount your Google Drive by running the code cell below. The code will be availble in the left pannel/files under `gdrive > My Drive > nlp_lib`"
      ]
    },
    {
      "cell_type": "code",
      "execution_count": null,
      "metadata": {
        "colab": {
          "base_uri": "https://localhost:8080/"
        },
        "id": "q69skf710hji",
        "outputId": "0b7b9ee4-fb11-473e-8ac9-3c8a8bbc4162"
      },
      "outputs": [
        {
          "name": "stdout",
          "output_type": "stream",
          "text": [
            "Mounted at /content/gdrive\n"
          ]
        }
      ],
      "source": [
        "from google.colab import drive\n",
        "drive.mount('/content/gdrive', force_remount=True)\n",
        "\n",
        "import sys\n",
        "sys.path.append('/content/gdrive/My Drive/')\n"
      ]
    },
    {
      "cell_type": "markdown",
      "metadata": {
        "id": "7X829s2B8KP6"
      },
      "source": [
        "# **Background**\n",
        "\n",
        "Welcome to the C4AI Scholars Program Take-Home Challenge! This exercise is designed to allow you to showcase your engineering and problem solving skills. The Challenge consists of different challenges including:\n",
        "\n",
        "*   Identifying bugs, and getting the code working. This is designed to test your ability to grapple with real world engineering challenges.\n",
        "*   Testing your ability to generate code for a specified problem.\n",
        "*   An opportunity for you to attempt an optional challenge question that extends the original problem set.\n",
        "\n",
        "These tasks were chosen as a setting to see how you think about problems, even if they are not in your own research field of interest. The tasks and dataset are not meant to be indicative of the research goals of the Scholar Program. We purposefully have selected a simple toy problem so the focus is on how you think, and does not require significant machine learning resources (can be run in this colab).\n",
        "\n",
        "Good luck!\n",
        "\n",
        "**How to Use and Submit this Document?**\n",
        "\n",
        "*   **Make a copy of this document** and rename it **Firstname_Lastname_C4AIScholarsChallenge**\n",
        "*   Once you have completed all tasks, save and pin your revisions\n",
        "*   Submit the assignment by responding directly to the email you received (please reply all) with a link to your final document by Friday September 29th at 12pm PDT."
      ]
    },
    {
      "cell_type": "markdown",
      "metadata": {
        "id": "jwea3-aF8Uut"
      },
      "source": [
        "# **Universal sentence embeddings background [2 points]**\n",
        "We will be exploring different ways of learning sentence embeddings. Sentence embedding is the collective name for a set of techniques in natural language processing (NLP) where sentences are mapped to vectors of real numbers. For an overview of sentence embeddings and some common methods, we refer these articles: [link1](https://txt.cohere.com/sentence-word-embeddings/), [link2](https://medium.com/huggingface/universal-word-sentence-embeddings-ce48ddc8fc3a)  \n",
        "\n",
        "Q1: What are some real-world applications of dense sentence embeddings?\n",
        "\n",
        "Answer:\n",
        "\n",
        "1. Semantic Search: Improving search engines by finding content based on meaning, not just keyword matches.\n",
        "2. Document Clustering: Grouping text documents based on their semantic content.\n",
        "3. Text Summarization: Generating concise summaries by understanding the context of longer texts.\n",
        "4. Question Answering: Finding the most relevant answers to a given question from a large dataset.\n",
        "5. Sentiment Analysis: Determining the sentiment of a sentence.\n",
        "6. Machine Translation: Aiding in translating one language to another by capturing semantic nuances.\n",
        "7. Chatbots & Virtual Assistants: Enhancing natural language understanding for better user interactions.\n",
        "8. Content Recommendation: Recommending articles, news, or products based on semantic content.\n",
        "9. Anomaly Detection: Identifying unusual patterns in texts for applications like fraud detection.\n",
        "\n",
        "Q2: Apart from using large language models, what are other ways to compute sentence embeddings?\n",
        "\n",
        "Answer:\n",
        "\n",
        "1. Average Word Embeddings: Compute embeddings for individual words using models like Word2Vec or GloVe and then average them to get a sentence representation.\n",
        "2. TF-IDF Weighted Averaging: Weight individual word embeddings using TF-IDF scores before averaging.\n",
        "3. Universal Sentence Encoder: Developed by Google, this encoder is designed to convert text into fixed-size embeddings, optimized for a wide range of tasks. (Other models SkipThought Vectors, QuickThought Models)\n",
        "4. SkipThought Vectors, QuickThought Models: These models are designed to encode sentences by predicting the surrounding sentences in a text, creating sentence embeddings that capture semantic meaning.\n",
        "5. Sequential Models (RNN, LSTM, GRU): Neural networks that consider sequence information for generating sentence embeddings. The last hidden state can serve as the sentence representation.\n",
        "6. Siamese and Triplet Networks: Neural architectures trained to minimize the distance between similar sentences and maximize the distance between dissimilar ones.\n",
        "7. Doc2Vec: An extension of Word2Vec, designed to generate embeddings for longer sequences of words or entire documents.\n",
        "8. InferSent: Uses supervised training with the BiLSTM model on a large dataset of sentence pairs to capture semantic relationships.\n",
        "9. FastText: Like Word2Vec, but captures subword information, allowing for average embeddings of sentences.\n",
        "10. StarSpace: A model by Facebook that can embed multi-modal entities (e.g., words, sentences, documents) into a shared embedding space."
      ]
    },
    {
      "cell_type": "markdown",
      "metadata": {
        "id": "YVPkyE6r8cc9"
      },
      "source": [
        "**Imports**"
      ]
    },
    {
      "cell_type": "code",
      "execution_count": null,
      "metadata": {
        "id": "M4UUlYyX8eh7"
      },
      "outputs": [],
      "source": [
        "import json\n",
        "import math\n",
        "from collections import OrderedDict\n",
        "import torch\n",
        "from torch import nn, Tensor\n",
        "from typing import Union, Tuple, List, Iterable, Dict\n",
        "import torch.nn.functional as F\n",
        "from torch.nn.parameter import Parameter\n",
        "from torch.optim import AdamW\n",
        "from torch.utils.data import DataLoader\n",
        "from scipy.stats import pearsonr, spearmanr\n",
        "import numpy as np\n",
        "import gzip, csv\n",
        "import pandas as pd\n",
        "from tqdm.auto import tqdm\n",
        "\n",
        "torch.manual_seed(0)\n",
        "np.random.seed(0)"
      ]
    },
    {
      "cell_type": "code",
      "execution_count": null,
      "metadata": {
        "colab": {
          "base_uri": "https://localhost:8080/"
        },
        "id": "wR18Hatm8RDY",
        "outputId": "93d9ec3f-3a1b-4a24-9850-c11847994307"
      },
      "outputs": [
        {
          "name": "stdout",
          "output_type": "stream",
          "text": [
            "Collecting transformers\n",
            "  Downloading transformers-4.33.3-py3-none-any.whl (7.6 MB)\n",
            "\u001b[2K     \u001b[90m━━━━━━━━━━━━━━━━━━━━━━━━━━━━━━━━━━━━━━━━\u001b[0m \u001b[32m7.6/7.6 MB\u001b[0m \u001b[31m16.2 MB/s\u001b[0m eta \u001b[36m0:00:00\u001b[0m\n",
            "\u001b[?25hRequirement already satisfied: filelock in /usr/local/lib/python3.10/dist-packages (from transformers) (3.12.2)\n",
            "Collecting huggingface-hub<1.0,>=0.15.1 (from transformers)\n",
            "  Downloading huggingface_hub-0.17.3-py3-none-any.whl (295 kB)\n",
            "\u001b[2K     \u001b[90m━━━━━━━━━━━━━━━━━━━━━━━━━━━━━━━━━━━━━━━\u001b[0m \u001b[32m295.0/295.0 kB\u001b[0m \u001b[31m8.9 MB/s\u001b[0m eta \u001b[36m0:00:00\u001b[0m\n",
            "\u001b[?25hRequirement already satisfied: numpy>=1.17 in /usr/local/lib/python3.10/dist-packages (from transformers) (1.23.5)\n",
            "Requirement already satisfied: packaging>=20.0 in /usr/local/lib/python3.10/dist-packages (from transformers) (23.1)\n",
            "Requirement already satisfied: pyyaml>=5.1 in /usr/local/lib/python3.10/dist-packages (from transformers) (6.0.1)\n",
            "Requirement already satisfied: regex!=2019.12.17 in /usr/local/lib/python3.10/dist-packages (from transformers) (2023.6.3)\n",
            "Requirement already satisfied: requests in /usr/local/lib/python3.10/dist-packages (from transformers) (2.31.0)\n",
            "Collecting tokenizers!=0.11.3,<0.14,>=0.11.1 (from transformers)\n",
            "  Downloading tokenizers-0.13.3-cp310-cp310-manylinux_2_17_x86_64.manylinux2014_x86_64.whl (7.8 MB)\n",
            "\u001b[2K     \u001b[90m━━━━━━━━━━━━━━━━━━━━━━━━━━━━━━━━━━━━━━━━\u001b[0m \u001b[32m7.8/7.8 MB\u001b[0m \u001b[31m40.8 MB/s\u001b[0m eta \u001b[36m0:00:00\u001b[0m\n",
            "\u001b[?25hCollecting safetensors>=0.3.1 (from transformers)\n",
            "  Downloading safetensors-0.3.3-cp310-cp310-manylinux_2_17_x86_64.manylinux2014_x86_64.whl (1.3 MB)\n",
            "\u001b[2K     \u001b[90m━━━━━━━━━━━━━━━━━━━━━━━━━━━━━━━━━━━━━━━━\u001b[0m \u001b[32m1.3/1.3 MB\u001b[0m \u001b[31m50.2 MB/s\u001b[0m eta \u001b[36m0:00:00\u001b[0m\n",
            "\u001b[?25hRequirement already satisfied: tqdm>=4.27 in /usr/local/lib/python3.10/dist-packages (from transformers) (4.66.1)\n",
            "Requirement already satisfied: fsspec in /usr/local/lib/python3.10/dist-packages (from huggingface-hub<1.0,>=0.15.1->transformers) (2023.6.0)\n",
            "Requirement already satisfied: typing-extensions>=3.7.4.3 in /usr/local/lib/python3.10/dist-packages (from huggingface-hub<1.0,>=0.15.1->transformers) (4.5.0)\n",
            "Requirement already satisfied: charset-normalizer<4,>=2 in /usr/local/lib/python3.10/dist-packages (from requests->transformers) (3.2.0)\n",
            "Requirement already satisfied: idna<4,>=2.5 in /usr/local/lib/python3.10/dist-packages (from requests->transformers) (3.4)\n",
            "Requirement already satisfied: urllib3<3,>=1.21.1 in /usr/local/lib/python3.10/dist-packages (from requests->transformers) (2.0.4)\n",
            "Requirement already satisfied: certifi>=2017.4.17 in /usr/local/lib/python3.10/dist-packages (from requests->transformers) (2023.7.22)\n",
            "Installing collected packages: tokenizers, safetensors, huggingface-hub, transformers\n",
            "Successfully installed huggingface-hub-0.17.3 safetensors-0.3.3 tokenizers-0.13.3 transformers-4.33.3\n"
          ]
        }
      ],
      "source": [
        "%pip install transformers\n",
        "from transformers import AutoTokenizer, AutoModel\n",
        "# If you can not find all the bugs, use the line below for AutoModel\n",
        "#from transformers import AutoModel"
      ]
    },
    {
      "cell_type": "markdown",
      "metadata": {
        "id": "bVtBb1LB8iqA"
      },
      "source": [
        "## **Coding Challenge Part 1: Debugging custom BERT code [7 points]**\n",
        "\n",
        "BERT ([Bidirectional Encoder Representations from Transformers](https://arxiv.org/abs/1810.04805)) is a transformer based language model that is pretrained to generate contextualized embeddings. In this part, we provide a BERT implementation together with a pretrained checkpoint file. This BERT implementation includes 7 bugs in which some of these bugs break the code but some of them only impact the model performance.\n",
        "\n",
        "Tasks:\n",
        "* [**7 points**] Your goal is to get the code working. There are 7 bugs in the code, some of them lead to error in the code but some of them are designed to impair test accuracy but not break the code. You will one point for each of the 7 bugs you find.\n",
        "\n",
        "* [**1 points**] We will give extra points for also adding improved documentation to each of the functions we introduce in this section, and for describing the fixes to the bugs.\n",
        "\n",
        "\n",
        "Note for usage and comparison:\n",
        "*   In order to test this implementation, we provide ***bert_tiny.bin*** and example usage in the below cells.\n",
        "*   You can check if your bugfixes are correct based on your results in \"Coding challenge Part 2\". Except the Bert imlementation, there is no bugs in other parts, so if your fixes are correct you should achieve the same results. We provide the expected results for you to compare.\n",
        "\n",
        "\n",
        "**Please DO NOT use any additional library except the ones that are imported!!**"
      ]
    },
    {
      "cell_type": "markdown",
      "metadata": {
        "id": "X3e6blJo8ugX"
      },
      "source": [
        "**Download weights for the custom Bert**"
      ]
    },
    {
      "cell_type": "code",
      "execution_count": null,
      "metadata": {
        "colab": {
          "base_uri": "https://localhost:8080/"
        },
        "id": "PK_FZGZt8vTm",
        "outputId": "bba4145b-85ee-4d50-ab52-7b4ed658e6c1"
      },
      "outputs": [
        {
          "name": "stdout",
          "output_type": "stream",
          "text": [
            "--2023-10-01 20:39:57--  https://github.com/for-ai/bert/raw/master/bert_tiny.bin\n",
            "Resolving github.com (github.com)... 140.82.121.4\n",
            "Connecting to github.com (github.com)|140.82.121.4|:443... connected.\n",
            "HTTP request sent, awaiting response... 302 Found\n",
            "Location: https://raw.githubusercontent.com/for-ai/bert/master/bert_tiny.bin [following]\n",
            "--2023-10-01 20:39:57--  https://raw.githubusercontent.com/for-ai/bert/master/bert_tiny.bin\n",
            "Resolving raw.githubusercontent.com (raw.githubusercontent.com)... 185.199.108.133, 185.199.109.133, 185.199.110.133, ...\n",
            "Connecting to raw.githubusercontent.com (raw.githubusercontent.com)|185.199.108.133|:443... connected.\n",
            "HTTP request sent, awaiting response... 200 OK\n",
            "Length: 17555010 (17M) [application/octet-stream]\n",
            "Saving to: ‘bert_tiny.bin.1’\n",
            "\n",
            "bert_tiny.bin.1     100%[===================>]  16.74M  --.-KB/s    in 0.06s   \n",
            "\n",
            "2023-10-01 20:39:57 (293 MB/s) - ‘bert_tiny.bin.1’ saved [17555010/17555010]\n",
            "\n"
          ]
        }
      ],
      "source": [
        "!wget https://github.com/for-ai/bert/raw/master/bert_tiny.bin"
      ]
    },
    {
      "cell_type": "markdown",
      "metadata": {
        "id": "htg26xoP8zxT"
      },
      "source": [
        "**An example use of pretrained BERT with transformers library to encode a sentence**"
      ]
    },
    {
      "cell_type": "code",
      "execution_count": null,
      "metadata": {
        "colab": {
          "base_uri": "https://localhost:8080/"
        },
        "id": "6tAw6W6-80NH",
        "outputId": "9e765bad-033c-4f8f-faed-e869af2a3b07"
      },
      "outputs": [
        {
          "name": "stdout",
          "output_type": "stream",
          "text": [
            "This is the custom Bert model being used\n",
            "\n",
            "Resulting embedding shape: torch.Size([1, 128])\n"
          ]
        }
      ],
      "source": [
        "from nlp_lib.models.bert import Bert\n",
        "\n",
        "MODEL_NAME = 'prajjwal1/bert-tiny'\n",
        "tokenizer = AutoTokenizer.from_pretrained(MODEL_NAME)\n",
        "\n",
        "## IF YOU CANNOT SOLVE PREVIOUS BUGS, USE THE LINE BELOW:\n",
        "# bert = AutoModel.from_pretrained(MODEL_NAME)\n",
        "\n",
        "bert_config = {\"hidden_size\": 128, \"num_attention_heads\": 2, \"num_hidden_layers\": 2, \"intermediate_size\": 512, \"vocab_size\": 30522}\n",
        "bert = Bert(bert_config).load_model('bert_tiny.bin')\n",
        "\n",
        "#EXAMPLE USE\n",
        "sentence = 'An example use of pretrained BERT with transformers library to encode a sentence'\n",
        "tokenized_sample = tokenizer(sentence, return_tensors='pt', padding='max_length', max_length=512)\n",
        "output = bert(input_ids=tokenized_sample['input_ids'],\n",
        "              attention_mask=tokenized_sample['attention_mask'],)\n",
        "\n",
        "# We use \"pooler_output\" for simplicity. This corresponds the last layer\n",
        "# hidden-state of the first token of the sequence (CLS token) after\n",
        "# further processing through the layers used for the auxiliary pretraining task.\n",
        "embedding = output[1]\n",
        "print(f'\\nResulting embedding shape: {embedding.shape}')"
      ]
    },
    {
      "cell_type": "code",
      "execution_count": null,
      "metadata": {
        "colab": {
          "base_uri": "https://localhost:8080/"
        },
        "id": "DRVMlBvGZoBe",
        "outputId": "0f3f1f7f-a4f1-4681-fc89-c6a78bd9c3e6"
      },
      "outputs": [
        {
          "data": {
            "text/plain": [
              "tensor([[-1.0000, -0.0695, -0.9951,  0.8185, -0.9933,  0.3788, -0.9973, -0.6350,\n",
              "         -0.0557, -0.0658, -0.4127, -0.1248,  0.0944,  0.9999, -0.0829, -0.8509,\n",
              "          0.9305,  0.3460, -0.8121,  0.2879,  0.9477, -0.2563,  0.2890, -0.8261,\n",
              "         -0.9986, -0.1863, -0.9997,  0.8653,  0.9898, -0.0616, -0.0546, -0.0704,\n",
              "         -0.9600, -0.4011,  0.7874,  0.9998, -0.9837,  0.1295,  0.9465, -0.9942,\n",
              "          0.9855,  0.9360, -0.9896,  0.8559, -0.9988, -0.0915, -0.9678,  0.9989,\n",
              "         -0.0086,  0.9962,  0.9166, -0.9419, -0.0537,  0.9985,  0.9952,  0.9942,\n",
              "         -0.9695,  0.6626,  0.9500, -0.9687,  0.0029,  0.7946,  0.0899,  0.7948,\n",
              "          0.5961, -0.9999,  0.5322, -0.3457,  0.4045,  0.9035,  0.9984, -0.0202,\n",
              "         -0.9694, -0.0154,  0.7936, -0.9908, -0.7322, -0.0393, -0.7796, -0.1921,\n",
              "         -0.2823,  0.0601, -0.8804, -0.9995,  0.9998, -0.8784,  0.8517, -0.9963,\n",
              "         -0.9219,  0.7214, -0.5578,  0.9962, -0.9723,  0.9780,  0.9642,  0.9051,\n",
              "         -0.8970, -0.3269, -0.9988, -0.9958, -0.9563,  0.7792, -0.9982, -0.6133,\n",
              "         -0.9773, -0.4835, -0.9999, -0.8624,  0.2794,  0.9602,  0.9925,  0.7808,\n",
              "         -0.6876,  0.9942, -0.9998,  0.0195,  0.5002,  0.1158, -0.0026, -0.9986,\n",
              "         -0.0037, -0.9998, -0.8588,  0.9238, -0.9995,  0.9897,  0.9521,  0.9660]],\n",
              "       grad_fn=<TanhBackward0>)"
            ]
          },
          "execution_count": 7,
          "metadata": {},
          "output_type": "execute_result"
        }
      ],
      "source": [
        "embedding"
      ]
    },
    {
      "cell_type": "markdown",
      "metadata": {
        "id": "s8dEdZoc815Y"
      },
      "source": [
        "# **Coding Challenge Part 2: Evaluate a pretrained BERT model on STS benchmark [4 points]**\n",
        "\n",
        "**Please do not use additional library except the ones that are imported!!**\n",
        "\n",
        "In this part, we are going to evaluate a pretrained BERT model on STS benchmark without applying any additional training. For the evaluation we provide Pearson/Spearman correlation functions and cosine similarity method.\n",
        "\n",
        "Tasks:\n",
        "\n",
        "*   **[2 Points]** Prepare an evaluation data loader and evaluation loop: Read in the STS data, tokenize it as shown in the example,  generate the dataloader and return Pearson and Spearman correlation scores.\n",
        "*   **[1 Point]** Implement cosine similarity function, explained as TODO\n",
        "\n",
        "**[1 Point] Question**: What is the difference between Pearson and Spearman correlation, and why you might want to evaluate using both metrics?\n",
        "\n",
        "**Answer:**\n",
        "\n",
        "Difference between Pearson and Spearman correlation:\n",
        "- Pearson Correlation: Measures the linear relationship between two continuous variables. It assumes that the variables are normally distributed and have a linear relationship.\n",
        "- Spearman Correlation: Measures the strength and direction of the monotonic relationship between two variables. It's based on the rank order of values rather than the actual data values themselves, making it a non-parametric measure.\n",
        "\n",
        "Why evaluate using both metrics?:\n",
        "- Different relationships: While we use Pearson for linear relationships, Spearman is better for non-linear or monotonic relationships.\n",
        "- Robustness: Spearman is less sensitive to outliers since it's based on ranks.\n",
        "- By using both, we can get a fuller understanding of the type and strength of the relationship between two variables. If both correlations are high, it indicates a strong linear and monotonic relationship. If Pearson is low but Spearman is high, it might indicate a strong non-linear relationship."
      ]
    },
    {
      "cell_type": "markdown",
      "metadata": {
        "id": "puz1zbYQ84cn"
      },
      "source": [
        "**Semantic Textual Similarity (STS) benchmark:**\n",
        "STS dataset consists of a set of sentence pairs with a semantic similarity scores for each pair. We want to use this dataset to evaluate the quality of a sentence encoder.\n",
        "\n",
        "Dataset includes:\n",
        "\n",
        "*   Sentence pair: (sentence1, sentence2)\n",
        "*   Similarity score: ranging 1 to 5 where 5 corresponds highest similarity\n",
        "*   Splits: train, dev, test"
      ]
    },
    {
      "cell_type": "markdown",
      "metadata": {
        "id": "UfeR2h9T86dn"
      },
      "source": [
        "**Download datasets**"
      ]
    },
    {
      "cell_type": "code",
      "execution_count": null,
      "metadata": {
        "colab": {
          "base_uri": "https://localhost:8080/"
        },
        "id": "VXAtOSWA88vd",
        "outputId": "6fb1db6f-d50c-4e6e-9d90-2e7f3ac3d986"
      },
      "outputs": [
        {
          "name": "stdout",
          "output_type": "stream",
          "text": [
            "--2023-10-02 13:54:47--  https://sbert.net/datasets/stsbenchmark.tsv.gz\n",
            "Resolving sbert.net (sbert.net)... 104.21.67.200, 172.67.180.145, 2606:4700:3031::ac43:b491, ...\n",
            "Connecting to sbert.net (sbert.net)|104.21.67.200|:443... connected.\n",
            "HTTP request sent, awaiting response... 301 Moved Permanently\n",
            "Location: https://public.ukp.informatik.tu-darmstadt.de/reimers/sentence-transformers/datasets/stsbenchmark.tsv.gz [following]\n",
            "--2023-10-02 13:54:48--  https://public.ukp.informatik.tu-darmstadt.de/reimers/sentence-transformers/datasets/stsbenchmark.tsv.gz\n",
            "Resolving public.ukp.informatik.tu-darmstadt.de (public.ukp.informatik.tu-darmstadt.de)... 130.83.167.186\n",
            "Connecting to public.ukp.informatik.tu-darmstadt.de (public.ukp.informatik.tu-darmstadt.de)|130.83.167.186|:443... connected.\n",
            "HTTP request sent, awaiting response... 200 OK\n",
            "Length: 392336 (383K) [application/octet-stream]\n",
            "Saving to: ‘stsbenchmark.tsv.gz’\n",
            "\n",
            "stsbenchmark.tsv.gz 100%[===================>] 383.14K   691KB/s    in 0.6s    \n",
            "\n",
            "2023-10-02 13:54:49 (691 KB/s) - ‘stsbenchmark.tsv.gz’ saved [392336/392336]\n",
            "\n"
          ]
        }
      ],
      "source": [
        "!wget https://sbert.net/datasets/stsbenchmark.tsv.gz"
      ]
    },
    {
      "cell_type": "code",
      "execution_count": null,
      "metadata": {
        "colab": {
          "base_uri": "https://localhost:8080/",
          "height": 206
        },
        "id": "pz2ChjrE9AdV",
        "outputId": "74bed81d-cbed-4744-bb68-0fd1d704422c"
      },
      "outputs": [
        {
          "data": {
            "text/html": [
              "\n",
              "  <div id=\"df-81582224-1f50-4bb7-8b7b-01f6a392296c\" class=\"colab-df-container\">\n",
              "    <div>\n",
              "<style scoped>\n",
              "    .dataframe tbody tr th:only-of-type {\n",
              "        vertical-align: middle;\n",
              "    }\n",
              "\n",
              "    .dataframe tbody tr th {\n",
              "        vertical-align: top;\n",
              "    }\n",
              "\n",
              "    .dataframe thead th {\n",
              "        text-align: right;\n",
              "    }\n",
              "</style>\n",
              "<table border=\"1\" class=\"dataframe\">\n",
              "  <thead>\n",
              "    <tr style=\"text-align: right;\">\n",
              "      <th></th>\n",
              "      <th>split</th>\n",
              "      <th>genre</th>\n",
              "      <th>dataset</th>\n",
              "      <th>year</th>\n",
              "      <th>sid</th>\n",
              "      <th>score</th>\n",
              "      <th>sentence1</th>\n",
              "      <th>sentence2</th>\n",
              "    </tr>\n",
              "  </thead>\n",
              "  <tbody>\n",
              "    <tr>\n",
              "      <th>0</th>\n",
              "      <td>train</td>\n",
              "      <td>main-captions</td>\n",
              "      <td>MSRvid</td>\n",
              "      <td>2012test</td>\n",
              "      <td>1</td>\n",
              "      <td>5.00</td>\n",
              "      <td>A plane is taking off.</td>\n",
              "      <td>An air plane is taking off.</td>\n",
              "    </tr>\n",
              "    <tr>\n",
              "      <th>1</th>\n",
              "      <td>train</td>\n",
              "      <td>main-captions</td>\n",
              "      <td>MSRvid</td>\n",
              "      <td>2012test</td>\n",
              "      <td>4</td>\n",
              "      <td>3.80</td>\n",
              "      <td>A man is playing a large flute.</td>\n",
              "      <td>A man is playing a flute.</td>\n",
              "    </tr>\n",
              "    <tr>\n",
              "      <th>2</th>\n",
              "      <td>train</td>\n",
              "      <td>main-captions</td>\n",
              "      <td>MSRvid</td>\n",
              "      <td>2012test</td>\n",
              "      <td>5</td>\n",
              "      <td>3.80</td>\n",
              "      <td>A man is spreading shreded cheese on a pizza.</td>\n",
              "      <td>A man is spreading shredded cheese on an uncoo...</td>\n",
              "    </tr>\n",
              "    <tr>\n",
              "      <th>3</th>\n",
              "      <td>train</td>\n",
              "      <td>main-captions</td>\n",
              "      <td>MSRvid</td>\n",
              "      <td>2012test</td>\n",
              "      <td>6</td>\n",
              "      <td>2.60</td>\n",
              "      <td>Three men are playing chess.</td>\n",
              "      <td>Two men are playing chess.</td>\n",
              "    </tr>\n",
              "    <tr>\n",
              "      <th>4</th>\n",
              "      <td>train</td>\n",
              "      <td>main-captions</td>\n",
              "      <td>MSRvid</td>\n",
              "      <td>2012test</td>\n",
              "      <td>9</td>\n",
              "      <td>4.25</td>\n",
              "      <td>A man is playing the cello.</td>\n",
              "      <td>A man seated is playing the cello.</td>\n",
              "    </tr>\n",
              "  </tbody>\n",
              "</table>\n",
              "</div>\n",
              "    <div class=\"colab-df-buttons\">\n",
              "\n",
              "  <div class=\"colab-df-container\">\n",
              "    <button class=\"colab-df-convert\" onclick=\"convertToInteractive('df-81582224-1f50-4bb7-8b7b-01f6a392296c')\"\n",
              "            title=\"Convert this dataframe to an interactive table.\"\n",
              "            style=\"display:none;\">\n",
              "\n",
              "  <svg xmlns=\"http://www.w3.org/2000/svg\" height=\"24px\" viewBox=\"0 -960 960 960\">\n",
              "    <path d=\"M120-120v-720h720v720H120Zm60-500h600v-160H180v160Zm220 220h160v-160H400v160Zm0 220h160v-160H400v160ZM180-400h160v-160H180v160Zm440 0h160v-160H620v160ZM180-180h160v-160H180v160Zm440 0h160v-160H620v160Z\"/>\n",
              "  </svg>\n",
              "    </button>\n",
              "\n",
              "  <style>\n",
              "    .colab-df-container {\n",
              "      display:flex;\n",
              "      gap: 12px;\n",
              "    }\n",
              "\n",
              "    .colab-df-convert {\n",
              "      background-color: #E8F0FE;\n",
              "      border: none;\n",
              "      border-radius: 50%;\n",
              "      cursor: pointer;\n",
              "      display: none;\n",
              "      fill: #1967D2;\n",
              "      height: 32px;\n",
              "      padding: 0 0 0 0;\n",
              "      width: 32px;\n",
              "    }\n",
              "\n",
              "    .colab-df-convert:hover {\n",
              "      background-color: #E2EBFA;\n",
              "      box-shadow: 0px 1px 2px rgba(60, 64, 67, 0.3), 0px 1px 3px 1px rgba(60, 64, 67, 0.15);\n",
              "      fill: #174EA6;\n",
              "    }\n",
              "\n",
              "    .colab-df-buttons div {\n",
              "      margin-bottom: 4px;\n",
              "    }\n",
              "\n",
              "    [theme=dark] .colab-df-convert {\n",
              "      background-color: #3B4455;\n",
              "      fill: #D2E3FC;\n",
              "    }\n",
              "\n",
              "    [theme=dark] .colab-df-convert:hover {\n",
              "      background-color: #434B5C;\n",
              "      box-shadow: 0px 1px 3px 1px rgba(0, 0, 0, 0.15);\n",
              "      filter: drop-shadow(0px 1px 2px rgba(0, 0, 0, 0.3));\n",
              "      fill: #FFFFFF;\n",
              "    }\n",
              "  </style>\n",
              "\n",
              "    <script>\n",
              "      const buttonEl =\n",
              "        document.querySelector('#df-81582224-1f50-4bb7-8b7b-01f6a392296c button.colab-df-convert');\n",
              "      buttonEl.style.display =\n",
              "        google.colab.kernel.accessAllowed ? 'block' : 'none';\n",
              "\n",
              "      async function convertToInteractive(key) {\n",
              "        const element = document.querySelector('#df-81582224-1f50-4bb7-8b7b-01f6a392296c');\n",
              "        const dataTable =\n",
              "          await google.colab.kernel.invokeFunction('convertToInteractive',\n",
              "                                                    [key], {});\n",
              "        if (!dataTable) return;\n",
              "\n",
              "        const docLinkHtml = 'Like what you see? Visit the ' +\n",
              "          '<a target=\"_blank\" href=https://colab.research.google.com/notebooks/data_table.ipynb>data table notebook</a>'\n",
              "          + ' to learn more about interactive tables.';\n",
              "        element.innerHTML = '';\n",
              "        dataTable['output_type'] = 'display_data';\n",
              "        await google.colab.output.renderOutput(dataTable, element);\n",
              "        const docLink = document.createElement('div');\n",
              "        docLink.innerHTML = docLinkHtml;\n",
              "        element.appendChild(docLink);\n",
              "      }\n",
              "    </script>\n",
              "  </div>\n",
              "\n",
              "\n",
              "<div id=\"df-c5a2fc16-d84b-4ddd-b211-fddfd49a3844\">\n",
              "  <button class=\"colab-df-quickchart\" onclick=\"quickchart('df-c5a2fc16-d84b-4ddd-b211-fddfd49a3844')\"\n",
              "            title=\"Suggest charts.\"\n",
              "            style=\"display:none;\">\n",
              "\n",
              "<svg xmlns=\"http://www.w3.org/2000/svg\" height=\"24px\"viewBox=\"0 0 24 24\"\n",
              "     width=\"24px\">\n",
              "    <g>\n",
              "        <path d=\"M19 3H5c-1.1 0-2 .9-2 2v14c0 1.1.9 2 2 2h14c1.1 0 2-.9 2-2V5c0-1.1-.9-2-2-2zM9 17H7v-7h2v7zm4 0h-2V7h2v10zm4 0h-2v-4h2v4z\"/>\n",
              "    </g>\n",
              "</svg>\n",
              "  </button>\n",
              "\n",
              "<style>\n",
              "  .colab-df-quickchart {\n",
              "      --bg-color: #E8F0FE;\n",
              "      --fill-color: #1967D2;\n",
              "      --hover-bg-color: #E2EBFA;\n",
              "      --hover-fill-color: #174EA6;\n",
              "      --disabled-fill-color: #AAA;\n",
              "      --disabled-bg-color: #DDD;\n",
              "  }\n",
              "\n",
              "  [theme=dark] .colab-df-quickchart {\n",
              "      --bg-color: #3B4455;\n",
              "      --fill-color: #D2E3FC;\n",
              "      --hover-bg-color: #434B5C;\n",
              "      --hover-fill-color: #FFFFFF;\n",
              "      --disabled-bg-color: #3B4455;\n",
              "      --disabled-fill-color: #666;\n",
              "  }\n",
              "\n",
              "  .colab-df-quickchart {\n",
              "    background-color: var(--bg-color);\n",
              "    border: none;\n",
              "    border-radius: 50%;\n",
              "    cursor: pointer;\n",
              "    display: none;\n",
              "    fill: var(--fill-color);\n",
              "    height: 32px;\n",
              "    padding: 0;\n",
              "    width: 32px;\n",
              "  }\n",
              "\n",
              "  .colab-df-quickchart:hover {\n",
              "    background-color: var(--hover-bg-color);\n",
              "    box-shadow: 0 1px 2px rgba(60, 64, 67, 0.3), 0 1px 3px 1px rgba(60, 64, 67, 0.15);\n",
              "    fill: var(--button-hover-fill-color);\n",
              "  }\n",
              "\n",
              "  .colab-df-quickchart-complete:disabled,\n",
              "  .colab-df-quickchart-complete:disabled:hover {\n",
              "    background-color: var(--disabled-bg-color);\n",
              "    fill: var(--disabled-fill-color);\n",
              "    box-shadow: none;\n",
              "  }\n",
              "\n",
              "  .colab-df-spinner {\n",
              "    border: 2px solid var(--fill-color);\n",
              "    border-color: transparent;\n",
              "    border-bottom-color: var(--fill-color);\n",
              "    animation:\n",
              "      spin 1s steps(1) infinite;\n",
              "  }\n",
              "\n",
              "  @keyframes spin {\n",
              "    0% {\n",
              "      border-color: transparent;\n",
              "      border-bottom-color: var(--fill-color);\n",
              "      border-left-color: var(--fill-color);\n",
              "    }\n",
              "    20% {\n",
              "      border-color: transparent;\n",
              "      border-left-color: var(--fill-color);\n",
              "      border-top-color: var(--fill-color);\n",
              "    }\n",
              "    30% {\n",
              "      border-color: transparent;\n",
              "      border-left-color: var(--fill-color);\n",
              "      border-top-color: var(--fill-color);\n",
              "      border-right-color: var(--fill-color);\n",
              "    }\n",
              "    40% {\n",
              "      border-color: transparent;\n",
              "      border-right-color: var(--fill-color);\n",
              "      border-top-color: var(--fill-color);\n",
              "    }\n",
              "    60% {\n",
              "      border-color: transparent;\n",
              "      border-right-color: var(--fill-color);\n",
              "    }\n",
              "    80% {\n",
              "      border-color: transparent;\n",
              "      border-right-color: var(--fill-color);\n",
              "      border-bottom-color: var(--fill-color);\n",
              "    }\n",
              "    90% {\n",
              "      border-color: transparent;\n",
              "      border-bottom-color: var(--fill-color);\n",
              "    }\n",
              "  }\n",
              "</style>\n",
              "\n",
              "  <script>\n",
              "    async function quickchart(key) {\n",
              "      const quickchartButtonEl =\n",
              "        document.querySelector('#' + key + ' button');\n",
              "      quickchartButtonEl.disabled = true;  // To prevent multiple clicks.\n",
              "      quickchartButtonEl.classList.add('colab-df-spinner');\n",
              "      try {\n",
              "        const charts = await google.colab.kernel.invokeFunction(\n",
              "            'suggestCharts', [key], {});\n",
              "      } catch (error) {\n",
              "        console.error('Error during call to suggestCharts:', error);\n",
              "      }\n",
              "      quickchartButtonEl.classList.remove('colab-df-spinner');\n",
              "      quickchartButtonEl.classList.add('colab-df-quickchart-complete');\n",
              "    }\n",
              "    (() => {\n",
              "      let quickchartButtonEl =\n",
              "        document.querySelector('#df-c5a2fc16-d84b-4ddd-b211-fddfd49a3844 button');\n",
              "      quickchartButtonEl.style.display =\n",
              "        google.colab.kernel.accessAllowed ? 'block' : 'none';\n",
              "    })();\n",
              "  </script>\n",
              "</div>\n",
              "    </div>\n",
              "  </div>\n"
            ],
            "text/plain": [
              "   split          genre dataset      year  sid  score  \\\n",
              "0  train  main-captions  MSRvid  2012test    1   5.00   \n",
              "1  train  main-captions  MSRvid  2012test    4   3.80   \n",
              "2  train  main-captions  MSRvid  2012test    5   3.80   \n",
              "3  train  main-captions  MSRvid  2012test    6   2.60   \n",
              "4  train  main-captions  MSRvid  2012test    9   4.25   \n",
              "\n",
              "                                       sentence1  \\\n",
              "0                         A plane is taking off.   \n",
              "1                A man is playing a large flute.   \n",
              "2  A man is spreading shreded cheese on a pizza.   \n",
              "3                   Three men are playing chess.   \n",
              "4                    A man is playing the cello.   \n",
              "\n",
              "                                           sentence2  \n",
              "0                        An air plane is taking off.  \n",
              "1                          A man is playing a flute.  \n",
              "2  A man is spreading shredded cheese on an uncoo...  \n",
              "3                         Two men are playing chess.  \n",
              "4                 A man seated is playing the cello.  "
            ]
          },
          "execution_count": 9,
          "metadata": {},
          "output_type": "execute_result"
        }
      ],
      "source": [
        "data = pd.read_csv('stsbenchmark.tsv.gz', compression='gzip', delimiter='\\t', quoting=csv.QUOTE_NONE)\n",
        "data.head()"
      ]
    },
    {
      "cell_type": "markdown",
      "metadata": {
        "id": "IT9xuo9k9Edb"
      },
      "source": [
        "**Evaluation**\n",
        "\n",
        "Expected result:\n",
        "\n",
        "Pearson correlation: 0.32\n",
        "\n",
        "Spearman correlation: 0.33"
      ]
    },
    {
      "cell_type": "code",
      "execution_count": null,
      "metadata": {
        "colab": {
          "base_uri": "https://localhost:8080/",
          "height": 121
        },
        "id": "NsNXtEE8vzvB",
        "outputId": "e80c5222-cecc-4d59-efd2-5516ed561227"
      },
      "outputs": [
        {
          "name": "stdout",
          "output_type": "stream",
          "text": [
            "This is the custom Bert model being used\n"
          ]
        },
        {
          "data": {
            "text/html": [
              "<span style='color: yellow'>Sentence1: A girl is styling her hair., Sentence2: A girl is brushing her hair., Score: 2.5</span>"
            ],
            "text/plain": [
              "<IPython.core.display.HTML object>"
            ]
          },
          "metadata": {},
          "output_type": "display_data"
        },
        {
          "data": {
            "text/html": [
              "<span style='color: yellow'>Sentence1: A group of men play soccer on the beach., Sentence2: A group of boys are playing soccer on the beach., Score: 3.6</span>"
            ],
            "text/plain": [
              "<IPython.core.display.HTML object>"
            ]
          },
          "metadata": {},
          "output_type": "display_data"
        },
        {
          "name": "stdout",
          "output_type": "stream",
          "text": [
            "\n",
            "Pearson correlation: 0.42\n",
            "Spearman correlation: 0.44\n"
          ]
        }
      ],
      "source": [
        "from transformers import AutoModel, AutoTokenizer, BertConfig\n",
        "import os\n",
        "\n",
        "from nlp_lib.dataset_utils import load_sts_dataset, tokenize_sentence_pair_sts_dataset, get_sts_dataloader\n",
        "from nlp_lib.eval_utils import eval_loop\n",
        "\n",
        "device = torch.device(\"cuda\") if torch.cuda.is_available() else torch.device(\"cpu\")\n",
        "\n",
        "#INFO: model and tokenizer\n",
        "model_name = 'prajjwal1/bert-tiny'\n",
        "tokenizer = AutoTokenizer.from_pretrained(model_name)\n",
        "\n",
        "# ########################################################################\n",
        "# Switch to this block for HuggingFace's implementation of BERT model\n",
        "# ########################################################################\n",
        "# Get the loaded model\n",
        "# from nlp_lib.models.bert_hf import load_custom_configured_hf_bert\n",
        "# bert = load_custom_configured_hf_bert('bert_tiny.bin', device)\n",
        "\n",
        "# Pearson correlation: 0.42\n",
        "# Spearman correlation: 0.44\n",
        "# ########################################################################\n",
        "\n",
        "#INFO: load bert\n",
        "bert_config = {\"hidden_size\": 128, \"num_attention_heads\": 2, \"num_hidden_layers\": 2, \"intermediate_size\": 512, \"vocab_size\": 30522}\n",
        "bert = Bert(bert_config).load_model('bert_tiny.bin')\n",
        "# Pearson correlation: 0.42\n",
        "# Spearman correlation: 0.44\n",
        "\n",
        "#INFO: load dataset\n",
        "sts_dataset = load_sts_dataset('stsbenchmark.tsv.gz')\n",
        "\n",
        "#INFO: tokenize dataset\n",
        "tokenized_test = tokenize_sentence_pair_sts_dataset(sts_dataset['test'], tokenizer)\n",
        "\n",
        "#INFO: generate dataloader\n",
        "test_dataloader = get_sts_dataloader(tokenized_test, batch_size=1)\n",
        "\n",
        "#INFO: run evaluation loop\n",
        "device = torch.device(\"cuda\") if torch.cuda.is_available() else torch.device(\"cpu\")\n",
        "bert = bert.to(device)\n",
        "results_from_pretrained = eval_loop(bert, tokenizer, test_dataloader, device)\n",
        "\n",
        "print(f'\\nPearson correlation: {results_from_pretrained[0]:.2f}\\nSpearman correlation: {results_from_pretrained[1]:.2f}')"
      ]
    },
    {
      "cell_type": "markdown",
      "metadata": {
        "id": "Em1V1kZx9JAR"
      },
      "source": [
        "# **Coding Challenge Part 3: Learning sentence embeddings using Natural Language Inference (NLI) dataset [4 Points]**\n",
        "\n",
        "**Please DO NOT use additional library except the ones that are imported!!**\n",
        "\n",
        "[Conneue et al. (2018)](https://https://arxiv.org/pdf/1705.02364.pdf) showed that a good sentence embedding model can be learned using NLI dataset. This method proposes using a shared encoder to encode both premise and hypothesis and then combine them before using a softmax classifier. Here , we will use a pretrained BERT model as shared encoder.  \n",
        "\n",
        "![SBERT_SoftmaxLoss_75.png](data:image/png;base64,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)\n",
        "\n",
        "Tasks:\n",
        "\n",
        "*   **[2 Point]** Prepare a training dataloader and training loop: Read in NLI data, tokenize and generate the corresponding data loader\n",
        "*   **[2 Point]** BertClassifier: Construct a model that uses above method. Please follow the architecture illustrated in the given figure."
      ]
    },
    {
      "cell_type": "markdown",
      "metadata": {
        "id": "s1X2Heze9N4-"
      },
      "source": [
        "**Download NLI dataset**\n",
        "\n",
        "This dataset includes:\n",
        "*   Sentence pairs: (sentence1, sentence2)\n",
        "*   Label: (contradiction, entailment, neutral)\n",
        "*   Split: train, dev, test"
      ]
    },
    {
      "cell_type": "code",
      "execution_count": null,
      "metadata": {
        "colab": {
          "base_uri": "https://localhost:8080/"
        },
        "id": "7j0B9IZ_9LJ2",
        "outputId": "79c2fa79-8b4f-4815-b5f8-0d7fab2e8cbb"
      },
      "outputs": [
        {
          "name": "stdout",
          "output_type": "stream",
          "text": [
            "--2023-10-01 20:44:02--  https://sbert.net/datasets/AllNLI.tsv.gz\n",
            "Resolving sbert.net (sbert.net)... 188.114.96.0, 188.114.97.0, 2a06:98c1:3121::, ...\n",
            "Connecting to sbert.net (sbert.net)|188.114.96.0|:443... connected.\n",
            "HTTP request sent, awaiting response... 301 Moved Permanently\n",
            "Location: https://public.ukp.informatik.tu-darmstadt.de/reimers/sentence-transformers/datasets/AllNLI.tsv.gz [following]\n",
            "--2023-10-01 20:44:02--  https://public.ukp.informatik.tu-darmstadt.de/reimers/sentence-transformers/datasets/AllNLI.tsv.gz\n",
            "Resolving public.ukp.informatik.tu-darmstadt.de (public.ukp.informatik.tu-darmstadt.de)... 130.83.167.186\n",
            "Connecting to public.ukp.informatik.tu-darmstadt.de (public.ukp.informatik.tu-darmstadt.de)|130.83.167.186|:443... connected.\n",
            "HTTP request sent, awaiting response... 200 OK\n",
            "Length: 40794454 (39M) [application/octet-stream]\n",
            "Saving to: ‘AllNLI.tsv.gz.1’\n",
            "\n",
            "AllNLI.tsv.gz.1     100%[===================>]  38.90M   154MB/s    in 0.3s    \n",
            "\n",
            "2023-10-01 20:44:03 (154 MB/s) - ‘AllNLI.tsv.gz.1’ saved [40794454/40794454]\n",
            "\n"
          ]
        }
      ],
      "source": [
        "!wget 'https://sbert.net/datasets/AllNLI.tsv.gz'"
      ]
    },
    {
      "cell_type": "code",
      "execution_count": null,
      "metadata": {
        "colab": {
          "base_uri": "https://localhost:8080/",
          "height": 206
        },
        "id": "mcn3H6Lj9PsZ",
        "outputId": "8f2ebf06-44b8-4855-ed76-3b186d160b44"
      },
      "outputs": [
        {
          "data": {
            "text/html": [
              "\n",
              "  <div id=\"df-345b76b5-8cae-451e-b6d2-eac8b37bf27b\" class=\"colab-df-container\">\n",
              "    <div>\n",
              "<style scoped>\n",
              "    .dataframe tbody tr th:only-of-type {\n",
              "        vertical-align: middle;\n",
              "    }\n",
              "\n",
              "    .dataframe tbody tr th {\n",
              "        vertical-align: top;\n",
              "    }\n",
              "\n",
              "    .dataframe thead th {\n",
              "        text-align: right;\n",
              "    }\n",
              "</style>\n",
              "<table border=\"1\" class=\"dataframe\">\n",
              "  <thead>\n",
              "    <tr style=\"text-align: right;\">\n",
              "      <th></th>\n",
              "      <th>split</th>\n",
              "      <th>dataset</th>\n",
              "      <th>filename</th>\n",
              "      <th>sentence1</th>\n",
              "      <th>sentence2</th>\n",
              "      <th>label</th>\n",
              "    </tr>\n",
              "  </thead>\n",
              "  <tbody>\n",
              "    <tr>\n",
              "      <th>0</th>\n",
              "      <td>train</td>\n",
              "      <td>SNLI</td>\n",
              "      <td>snli_1.0_train</td>\n",
              "      <td>A person on a horse jumps over a broken down a...</td>\n",
              "      <td>A person is training his horse for a competition.</td>\n",
              "      <td>neutral</td>\n",
              "    </tr>\n",
              "    <tr>\n",
              "      <th>1</th>\n",
              "      <td>train</td>\n",
              "      <td>SNLI</td>\n",
              "      <td>snli_1.0_train</td>\n",
              "      <td>A person on a horse jumps over a broken down a...</td>\n",
              "      <td>A person is at a diner, ordering an omelette.</td>\n",
              "      <td>contradiction</td>\n",
              "    </tr>\n",
              "    <tr>\n",
              "      <th>2</th>\n",
              "      <td>train</td>\n",
              "      <td>SNLI</td>\n",
              "      <td>snli_1.0_train</td>\n",
              "      <td>A person on a horse jumps over a broken down a...</td>\n",
              "      <td>A person is outdoors, on a horse.</td>\n",
              "      <td>entailment</td>\n",
              "    </tr>\n",
              "    <tr>\n",
              "      <th>3</th>\n",
              "      <td>train</td>\n",
              "      <td>SNLI</td>\n",
              "      <td>snli_1.0_train</td>\n",
              "      <td>Children smiling and waving at camera</td>\n",
              "      <td>They are smiling at their parents</td>\n",
              "      <td>neutral</td>\n",
              "    </tr>\n",
              "    <tr>\n",
              "      <th>4</th>\n",
              "      <td>train</td>\n",
              "      <td>SNLI</td>\n",
              "      <td>snli_1.0_train</td>\n",
              "      <td>Children smiling and waving at camera</td>\n",
              "      <td>There are children present</td>\n",
              "      <td>entailment</td>\n",
              "    </tr>\n",
              "  </tbody>\n",
              "</table>\n",
              "</div>\n",
              "    <div class=\"colab-df-buttons\">\n",
              "\n",
              "  <div class=\"colab-df-container\">\n",
              "    <button class=\"colab-df-convert\" onclick=\"convertToInteractive('df-345b76b5-8cae-451e-b6d2-eac8b37bf27b')\"\n",
              "            title=\"Convert this dataframe to an interactive table.\"\n",
              "            style=\"display:none;\">\n",
              "\n",
              "  <svg xmlns=\"http://www.w3.org/2000/svg\" height=\"24px\" viewBox=\"0 -960 960 960\">\n",
              "    <path d=\"M120-120v-720h720v720H120Zm60-500h600v-160H180v160Zm220 220h160v-160H400v160Zm0 220h160v-160H400v160ZM180-400h160v-160H180v160Zm440 0h160v-160H620v160ZM180-180h160v-160H180v160Zm440 0h160v-160H620v160Z\"/>\n",
              "  </svg>\n",
              "    </button>\n",
              "\n",
              "  <style>\n",
              "    .colab-df-container {\n",
              "      display:flex;\n",
              "      gap: 12px;\n",
              "    }\n",
              "\n",
              "    .colab-df-convert {\n",
              "      background-color: #E8F0FE;\n",
              "      border: none;\n",
              "      border-radius: 50%;\n",
              "      cursor: pointer;\n",
              "      display: none;\n",
              "      fill: #1967D2;\n",
              "      height: 32px;\n",
              "      padding: 0 0 0 0;\n",
              "      width: 32px;\n",
              "    }\n",
              "\n",
              "    .colab-df-convert:hover {\n",
              "      background-color: #E2EBFA;\n",
              "      box-shadow: 0px 1px 2px rgba(60, 64, 67, 0.3), 0px 1px 3px 1px rgba(60, 64, 67, 0.15);\n",
              "      fill: #174EA6;\n",
              "    }\n",
              "\n",
              "    .colab-df-buttons div {\n",
              "      margin-bottom: 4px;\n",
              "    }\n",
              "\n",
              "    [theme=dark] .colab-df-convert {\n",
              "      background-color: #3B4455;\n",
              "      fill: #D2E3FC;\n",
              "    }\n",
              "\n",
              "    [theme=dark] .colab-df-convert:hover {\n",
              "      background-color: #434B5C;\n",
              "      box-shadow: 0px 1px 3px 1px rgba(0, 0, 0, 0.15);\n",
              "      filter: drop-shadow(0px 1px 2px rgba(0, 0, 0, 0.3));\n",
              "      fill: #FFFFFF;\n",
              "    }\n",
              "  </style>\n",
              "\n",
              "    <script>\n",
              "      const buttonEl =\n",
              "        document.querySelector('#df-345b76b5-8cae-451e-b6d2-eac8b37bf27b button.colab-df-convert');\n",
              "      buttonEl.style.display =\n",
              "        google.colab.kernel.accessAllowed ? 'block' : 'none';\n",
              "\n",
              "      async function convertToInteractive(key) {\n",
              "        const element = document.querySelector('#df-345b76b5-8cae-451e-b6d2-eac8b37bf27b');\n",
              "        const dataTable =\n",
              "          await google.colab.kernel.invokeFunction('convertToInteractive',\n",
              "                                                    [key], {});\n",
              "        if (!dataTable) return;\n",
              "\n",
              "        const docLinkHtml = 'Like what you see? Visit the ' +\n",
              "          '<a target=\"_blank\" href=https://colab.research.google.com/notebooks/data_table.ipynb>data table notebook</a>'\n",
              "          + ' to learn more about interactive tables.';\n",
              "        element.innerHTML = '';\n",
              "        dataTable['output_type'] = 'display_data';\n",
              "        await google.colab.output.renderOutput(dataTable, element);\n",
              "        const docLink = document.createElement('div');\n",
              "        docLink.innerHTML = docLinkHtml;\n",
              "        element.appendChild(docLink);\n",
              "      }\n",
              "    </script>\n",
              "  </div>\n",
              "\n",
              "\n",
              "<div id=\"df-8e943143-554c-4d4c-b3ce-6bd8182adc14\">\n",
              "  <button class=\"colab-df-quickchart\" onclick=\"quickchart('df-8e943143-554c-4d4c-b3ce-6bd8182adc14')\"\n",
              "            title=\"Suggest charts.\"\n",
              "            style=\"display:none;\">\n",
              "\n",
              "<svg xmlns=\"http://www.w3.org/2000/svg\" height=\"24px\"viewBox=\"0 0 24 24\"\n",
              "     width=\"24px\">\n",
              "    <g>\n",
              "        <path d=\"M19 3H5c-1.1 0-2 .9-2 2v14c0 1.1.9 2 2 2h14c1.1 0 2-.9 2-2V5c0-1.1-.9-2-2-2zM9 17H7v-7h2v7zm4 0h-2V7h2v10zm4 0h-2v-4h2v4z\"/>\n",
              "    </g>\n",
              "</svg>\n",
              "  </button>\n",
              "\n",
              "<style>\n",
              "  .colab-df-quickchart {\n",
              "      --bg-color: #E8F0FE;\n",
              "      --fill-color: #1967D2;\n",
              "      --hover-bg-color: #E2EBFA;\n",
              "      --hover-fill-color: #174EA6;\n",
              "      --disabled-fill-color: #AAA;\n",
              "      --disabled-bg-color: #DDD;\n",
              "  }\n",
              "\n",
              "  [theme=dark] .colab-df-quickchart {\n",
              "      --bg-color: #3B4455;\n",
              "      --fill-color: #D2E3FC;\n",
              "      --hover-bg-color: #434B5C;\n",
              "      --hover-fill-color: #FFFFFF;\n",
              "      --disabled-bg-color: #3B4455;\n",
              "      --disabled-fill-color: #666;\n",
              "  }\n",
              "\n",
              "  .colab-df-quickchart {\n",
              "    background-color: var(--bg-color);\n",
              "    border: none;\n",
              "    border-radius: 50%;\n",
              "    cursor: pointer;\n",
              "    display: none;\n",
              "    fill: var(--fill-color);\n",
              "    height: 32px;\n",
              "    padding: 0;\n",
              "    width: 32px;\n",
              "  }\n",
              "\n",
              "  .colab-df-quickchart:hover {\n",
              "    background-color: var(--hover-bg-color);\n",
              "    box-shadow: 0 1px 2px rgba(60, 64, 67, 0.3), 0 1px 3px 1px rgba(60, 64, 67, 0.15);\n",
              "    fill: var(--button-hover-fill-color);\n",
              "  }\n",
              "\n",
              "  .colab-df-quickchart-complete:disabled,\n",
              "  .colab-df-quickchart-complete:disabled:hover {\n",
              "    background-color: var(--disabled-bg-color);\n",
              "    fill: var(--disabled-fill-color);\n",
              "    box-shadow: none;\n",
              "  }\n",
              "\n",
              "  .colab-df-spinner {\n",
              "    border: 2px solid var(--fill-color);\n",
              "    border-color: transparent;\n",
              "    border-bottom-color: var(--fill-color);\n",
              "    animation:\n",
              "      spin 1s steps(1) infinite;\n",
              "  }\n",
              "\n",
              "  @keyframes spin {\n",
              "    0% {\n",
              "      border-color: transparent;\n",
              "      border-bottom-color: var(--fill-color);\n",
              "      border-left-color: var(--fill-color);\n",
              "    }\n",
              "    20% {\n",
              "      border-color: transparent;\n",
              "      border-left-color: var(--fill-color);\n",
              "      border-top-color: var(--fill-color);\n",
              "    }\n",
              "    30% {\n",
              "      border-color: transparent;\n",
              "      border-left-color: var(--fill-color);\n",
              "      border-top-color: var(--fill-color);\n",
              "      border-right-color: var(--fill-color);\n",
              "    }\n",
              "    40% {\n",
              "      border-color: transparent;\n",
              "      border-right-color: var(--fill-color);\n",
              "      border-top-color: var(--fill-color);\n",
              "    }\n",
              "    60% {\n",
              "      border-color: transparent;\n",
              "      border-right-color: var(--fill-color);\n",
              "    }\n",
              "    80% {\n",
              "      border-color: transparent;\n",
              "      border-right-color: var(--fill-color);\n",
              "      border-bottom-color: var(--fill-color);\n",
              "    }\n",
              "    90% {\n",
              "      border-color: transparent;\n",
              "      border-bottom-color: var(--fill-color);\n",
              "    }\n",
              "  }\n",
              "</style>\n",
              "\n",
              "  <script>\n",
              "    async function quickchart(key) {\n",
              "      const quickchartButtonEl =\n",
              "        document.querySelector('#' + key + ' button');\n",
              "      quickchartButtonEl.disabled = true;  // To prevent multiple clicks.\n",
              "      quickchartButtonEl.classList.add('colab-df-spinner');\n",
              "      try {\n",
              "        const charts = await google.colab.kernel.invokeFunction(\n",
              "            'suggestCharts', [key], {});\n",
              "      } catch (error) {\n",
              "        console.error('Error during call to suggestCharts:', error);\n",
              "      }\n",
              "      quickchartButtonEl.classList.remove('colab-df-spinner');\n",
              "      quickchartButtonEl.classList.add('colab-df-quickchart-complete');\n",
              "    }\n",
              "    (() => {\n",
              "      let quickchartButtonEl =\n",
              "        document.querySelector('#df-8e943143-554c-4d4c-b3ce-6bd8182adc14 button');\n",
              "      quickchartButtonEl.style.display =\n",
              "        google.colab.kernel.accessAllowed ? 'block' : 'none';\n",
              "    })();\n",
              "  </script>\n",
              "</div>\n",
              "    </div>\n",
              "  </div>\n"
            ],
            "text/plain": [
              "   split dataset        filename  \\\n",
              "0  train    SNLI  snli_1.0_train   \n",
              "1  train    SNLI  snli_1.0_train   \n",
              "2  train    SNLI  snli_1.0_train   \n",
              "3  train    SNLI  snli_1.0_train   \n",
              "4  train    SNLI  snli_1.0_train   \n",
              "\n",
              "                                           sentence1  \\\n",
              "0  A person on a horse jumps over a broken down a...   \n",
              "1  A person on a horse jumps over a broken down a...   \n",
              "2  A person on a horse jumps over a broken down a...   \n",
              "3              Children smiling and waving at camera   \n",
              "4              Children smiling and waving at camera   \n",
              "\n",
              "                                           sentence2          label  \n",
              "0  A person is training his horse for a competition.        neutral  \n",
              "1      A person is at a diner, ordering an omelette.  contradiction  \n",
              "2                  A person is outdoors, on a horse.     entailment  \n",
              "3                  They are smiling at their parents        neutral  \n",
              "4                         There are children present     entailment  "
            ]
          },
          "execution_count": 15,
          "metadata": {},
          "output_type": "execute_result"
        }
      ],
      "source": [
        "data = pd.read_csv('AllNLI.tsv.gz', nrows=5, compression='gzip', delimiter='\\t', quoting=csv.QUOTE_NONE)\n",
        "data.head()"
      ]
    },
    {
      "cell_type": "code",
      "execution_count": null,
      "metadata": {
        "id": "iAxvWdwH9RNa"
      },
      "outputs": [],
      "source": [
        "from nlp_lib.dataset_utils import load_nli_dataset, tokenize_sentence_pair_nli_dataset, get_nli_dataloader\n",
        "from nlp_lib.models.bert_classifier import BertClassifier\n",
        "from nlp_lib.train_utils import train_loop_bert_classifier"
      ]
    },
    {
      "cell_type": "markdown",
      "metadata": {
        "id": "QJTNmTae9WEW"
      },
      "source": [
        "\n",
        "**Training**"
      ]
    },
    {
      "cell_type": "code",
      "execution_count": null,
      "metadata": {
        "colab": {
          "base_uri": "https://localhost:8080/",
          "height": 182,
          "referenced_widgets": [
            "b168232a950f473e88daf39779e7d75a",
            "e0056021d0864c5e8a9e85d6bd431de8",
            "a552e941d6bf461999c33e199d61d398",
            "641c1c8041e34a2b80eb9bf952dc5ac4",
            "14c845feb0c24a1f82d88a77f18415e3",
            "8e74427a68a14c35af6a95c2c899300d",
            "41f1d5a6ace24454a3edace8627163a3",
            "9e02f3b2a4b94c2c8df26fad43a47cb6",
            "1b3415b80a204c94836957d1f774ca0a",
            "6b63914c3bf64fb1a1341d734e15b407",
            "c55de3b13acc4e7db1bde0e6777c9903",
            "a5de738e1a98409e9f920f968885196f",
            "5cfd4bd217264011ac1d8977bdb028b6",
            "146ea5fa21194398a1c2c4d6c61b8714",
            "aaa5b6923f194d96b157639c25eab1ca",
            "b37d313b090b40b89d3dc7bd3b084aaf",
            "0f0477e2129347b299b933cd1de30681",
            "70eec085943f410a8edbcf097d7e8c6e",
            "4484028581eb43dcb93443ad8185ea97",
            "c78eef3c4a0046ed8eca7f9df4ccfa57",
            "4d0e695ccca64c8aaa942b9be339afb8",
            "fcabb1b99bfa4da6b092a5c227c59439",
            "8ed7df0e7c564308a5fb4c0e23b0f405",
            "1039293a41e74d469a9ec484e7a245f2",
            "8c652992674e4ab78c238268341dc29d",
            "60ba7dcdf8264fc5b1fb94e1b90f77c6",
            "ef48f35151ec42c4b9eaf989c45fafff",
            "e7d0c129d880498984af0d8cf0472d00",
            "a04a3e523ab142e2afb1728f4ce0378b",
            "a3a70f44a02f4ab2b8e53fbf27686b49",
            "3d277133ec974d9196087ba6ba665fe4",
            "6e8f68eb02fd4b18825cf5a696a25118",
            "898cb5356e1c46fea0eaa79ca6bb31ea"
          ]
        },
        "id": "U7YRGnHs9Y2v",
        "outputId": "5ff38915-2043-49d5-d9c5-df4b65022a48"
      },
      "outputs": [
        {
          "name": "stdout",
          "output_type": "stream",
          "text": [
            "This is the custom Bert model being used\n"
          ]
        },
        {
          "data": {
            "application/vnd.jupyter.widget-view+json": {
              "model_id": "b168232a950f473e88daf39779e7d75a",
              "version_major": 2,
              "version_minor": 0
            },
            "text/plain": [
              "  0%|          | 0/6250 [00:00<?, ?it/s]"
            ]
          },
          "metadata": {},
          "output_type": "display_data"
        },
        {
          "name": "stdout",
          "output_type": "stream",
          "text": [
            "Epoch: 1/3, Loss: 0.8986506065464019\n"
          ]
        },
        {
          "data": {
            "application/vnd.jupyter.widget-view+json": {
              "model_id": "a5de738e1a98409e9f920f968885196f",
              "version_major": 2,
              "version_minor": 0
            },
            "text/plain": [
              "  0%|          | 0/6250 [00:00<?, ?it/s]"
            ]
          },
          "metadata": {},
          "output_type": "display_data"
        },
        {
          "name": "stdout",
          "output_type": "stream",
          "text": [
            "Epoch: 2/3, Loss: 0.7181146187472344\n"
          ]
        },
        {
          "data": {
            "application/vnd.jupyter.widget-view+json": {
              "model_id": "8ed7df0e7c564308a5fb4c0e23b0f405",
              "version_major": 2,
              "version_minor": 0
            },
            "text/plain": [
              "  0%|          | 0/6250 [00:00<?, ?it/s]"
            ]
          },
          "metadata": {},
          "output_type": "display_data"
        },
        {
          "name": "stdout",
          "output_type": "stream",
          "text": [
            "Epoch: 3/3, Loss: 0.6433571647179127\n"
          ]
        }
      ],
      "source": [
        "#INFO: model and training configs\n",
        "model_name = 'prajjwal1/bert-tiny'\n",
        "num_epochs = 3\n",
        "batch_size = 8\n",
        "num_labels = 3\n",
        "device = torch.device(\"cuda\") if torch.cuda.is_available() else torch.device(\"cpu\")\n",
        "\n",
        "tokenizer = AutoTokenizer.from_pretrained(model_name)\n",
        "bert_config = {\"hidden_size\": 128, \"num_attention_heads\": 2, \"num_hidden_layers\": 2, \"intermediate_size\": 512, \"vocab_size\": 30522}\n",
        "bert_path = 'bert_tiny.bin'\n",
        "\n",
        "#INFO: load nli dataset\n",
        "nli_dataset = load_nli_dataset('AllNLI.tsv.gz')\n",
        "\n",
        "#INFO: tokenize dataset\n",
        "#WARNING: Use only first 50000 samples and maximum sequence length of 128\n",
        "tokenized_train = tokenize_sentence_pair_nli_dataset(nli_dataset['train'][:50000], tokenizer, device, max_length=128)\n",
        "\n",
        "#INFO: generate train_dataloader\n",
        "train_dataloader = get_nli_dataloader(tokenized_train, batch_size=batch_size, shuffle=True)\n",
        "\n",
        "# ########################################################################\n",
        "# Switch to this block for HuggingFace's implementation of BERT model\n",
        "# ########################################################################\n",
        "# from nlp_lib.models.bert_hf import load_custom_configured_hf_bert\n",
        "# bert = load_custom_configured_hf_bert('bert_tiny.bin', device)\n",
        "\n",
        "# Pearson correlation: 0.43\n",
        "# Spearman correlation: 0.34\n",
        "# #########################################################\n",
        "\n",
        "#TODO: Create a BertClassifier with required parameters\n",
        "bert_config = {\"hidden_size\": 128, \"num_attention_heads\": 2, \"num_hidden_layers\": 2, \"intermediate_size\": 512, \"vocab_size\": 30522}\n",
        "bert = Bert(bert_config).load_model('bert_tiny.bin')\n",
        "\n",
        "# Pearson correlation: 0.41\n",
        "# Spearman correlation: 0.32\n",
        "\n",
        "bert_classifier = BertClassifier(bert, bert_config[\"hidden_size\"], num_labels)\n",
        "\n",
        "#INFO: create optimizer and run training loop\n",
        "optimizer = AdamW(bert_classifier.parameters(), lr=5e-5)\n",
        "train_loop_bert_classifier(bert_classifier, optimizer, train_dataloader, num_epochs, device)"
      ]
    },
    {
      "cell_type": "markdown",
      "metadata": {
        "id": "XVqAQHfv9iZy"
      },
      "source": [
        "**Evaluation**\n",
        "\n",
        "Expected result:\n",
        "\n",
        "Pearson correlation: 0.37\n",
        "\n",
        "Spearman correlation: 0.42"
      ]
    },
    {
      "cell_type": "code",
      "execution_count": null,
      "metadata": {
        "colab": {
          "base_uri": "https://localhost:8080/"
        },
        "id": "kLipV-q19kUM",
        "outputId": "a8ba8e06-86a8-40b9-e9e0-f1c9626f23ed"
      },
      "outputs": [
        {
          "name": "stdout",
          "output_type": "stream",
          "text": [
            "\n",
            "Pearson correlation: 0.41\n",
            "Spearman correlation: 0.32\n"
          ]
        }
      ],
      "source": [
        "# TODO: run evaluation loop\n",
        "bert = bert.to(device)\n",
        "result_from_classification = eval_loop(bert_classifier, tokenizer, test_dataloader, device, model_type=\"classifier\")\n",
        "print(f'\\nPearson correlation: {result_from_classification[0]:.2f}\\nSpearman correlation: {result_from_classification[1]:.2f}')"
      ]
    },
    {
      "cell_type": "markdown",
      "metadata": {
        "id": "PY8zJ3sk9k5l"
      },
      "source": [
        "# **Coding Challenge Part 4: Learning sentence embedding using a contrastive approach based on NLI dataset [3 Points]**\n",
        "\n",
        "**Please DO NOT use additional library except the ones that are imported!!**\n",
        "\n",
        "In this part, you are asked to explore another method that leverages a contrastive approach using NLI dataset.\n",
        "\n",
        "Tasks **[3 Points]** :\n",
        "\n",
        "*   Generate a dataloader if this is required for your approach\n",
        "*   Construct a BERT based model using a contrastive method"
      ]
    },
    {
      "cell_type": "code",
      "execution_count": null,
      "metadata": {
        "id": "b83lJraO9ngO"
      },
      "outputs": [],
      "source": [
        "from transformers import BertConfig\n",
        "\n",
        "from nlp_lib.models.bert_contrastive import BertContrastive\n",
        "from nlp_lib.train_utils import train_loop_bert_contrastive\n",
        "from nlp_lib.dataset_utils import adjust_labels_for_contrastive_loss\n",
        "\n",
        "from nlp_lib.dataset_utils import load_nli_dataset, tokenize_sentence_pair_nli_dataset, get_nli_dataloader\n",
        "from nlp_lib.eval_utils import eval_loop"
      ]
    },
    {
      "cell_type": "markdown",
      "metadata": {
        "id": "uz-_sNPt9rio"
      },
      "source": [
        "**Training**"
      ]
    },
    {
      "cell_type": "code",
      "execution_count": null,
      "metadata": {
        "colab": {
          "base_uri": "https://localhost:8080/",
          "height": 182,
          "referenced_widgets": [
            "6f865b3197cb47dcb7813803f9bd0232",
            "236ab48ada544eb6a4339d522c6efb89",
            "03c33c2e97f3444192844f1bb9603851",
            "ee7f763c22ca438093bc1bdbfba64c28",
            "bff4c973a0c744999b4cc2906f2b5d1c",
            "bfa6d1c438824259ab8b7d334f736405",
            "9d2541ec568e4cdaaf2e16647d720875",
            "aca3d39def4d4798bb8f390f763cbb04",
            "bfa13acdd9e04a0f8f7641ba0b2f6ed1",
            "91da76e96f444ae98e7e54de3e4ee85c",
            "27dc1afeebea493c84fbf5df5fa34d66",
            "4288e7ea58144f55b8209e21bf5360b7",
            "1aa66a6da56c4c6e876df1816248eb95",
            "4f7fec4aa3f345dfa0f186bfeb081dac",
            "1a568770f4ba4edb83086cd21bfd89a1",
            "71587c0b774f44669d7dd61b219d8675",
            "45c085b8309949eaa7d5ac94f2504771",
            "82b00d89b52b4909b402246dd3da333f",
            "89ebcbc7e5b140b899dd6ec0eb9558e5",
            "7da7ee6794334c33801c186aa134e856",
            "6d43d9cffc9243589d33ce8f94258c48",
            "e96abcc721344654a13c0304048b2ea7",
            "01c214a5081549bdb836e3942dc17a6a",
            "decc4a29d10a4fada1d62404a58c64cc",
            "6788d79a25f348f89c8e092da6a21995",
            "17f00e1855ae4da581c82a4952b381de",
            "1797f6387a424923a098f07d7d3fbc95",
            "6f07960cadb44c2ab1c12e2be001d181",
            "a497b60448244152a096ef3a00c03416",
            "f1cfb51952764064b37328a44466e652",
            "7e63aaf2a3f043948d18a6d5099e414a",
            "4fdb547396c24b28b3903e295d1f324f",
            "d255185ff047473698c31c241d4909ed"
          ]
        },
        "id": "8UgzRYcQ9vJ5",
        "outputId": "29587be2-9dd7-463b-c63b-2ce42688cb99"
      },
      "outputs": [
        {
          "name": "stdout",
          "output_type": "stream",
          "text": [
            "This is the custom Bert model being used\n"
          ]
        },
        {
          "data": {
            "application/vnd.jupyter.widget-view+json": {
              "model_id": "6f865b3197cb47dcb7813803f9bd0232",
              "version_major": 2,
              "version_minor": 0
            },
            "text/plain": [
              "  0%|          | 0/4171 [00:00<?, ?it/s]"
            ]
          },
          "metadata": {},
          "output_type": "display_data"
        },
        {
          "name": "stdout",
          "output_type": "stream",
          "text": [
            "Epoch: 1/3, Loss: 0.14224985960332417\n"
          ]
        },
        {
          "data": {
            "application/vnd.jupyter.widget-view+json": {
              "model_id": "4288e7ea58144f55b8209e21bf5360b7",
              "version_major": 2,
              "version_minor": 0
            },
            "text/plain": [
              "  0%|          | 0/4171 [00:00<?, ?it/s]"
            ]
          },
          "metadata": {},
          "output_type": "display_data"
        },
        {
          "name": "stdout",
          "output_type": "stream",
          "text": [
            "Epoch: 2/3, Loss: 0.08433408683576306\n"
          ]
        },
        {
          "data": {
            "application/vnd.jupyter.widget-view+json": {
              "model_id": "01c214a5081549bdb836e3942dc17a6a",
              "version_major": 2,
              "version_minor": 0
            },
            "text/plain": [
              "  0%|          | 0/4171 [00:00<?, ?it/s]"
            ]
          },
          "metadata": {},
          "output_type": "display_data"
        },
        {
          "name": "stdout",
          "output_type": "stream",
          "text": [
            "Epoch: 3/3, Loss: 0.06626746792692778\n"
          ]
        }
      ],
      "source": [
        "import os\n",
        "\n",
        "#INFO: model and training configs\n",
        "model_name = 'prajjwal1/bert-tiny'\n",
        "num_epochs = 3\n",
        "train_batch_size = 8\n",
        "num_labels = 3\n",
        "device = torch.device(\"cuda\") if torch.cuda.is_available() else torch.device(\"cpu\")\n",
        "tokenizer = AutoTokenizer.from_pretrained(model_name)\n",
        "bert_config = {\"hidden_size\": 128, \"num_attention_heads\": 2, \"num_hidden_layers\": 2, \"intermediate_size\": 512, \"vocab_size\": 30522}\n",
        "bert_path = 'bert_tiny.bin'\n",
        "\n",
        "# ########################################################################\n",
        "# Switch to this block for HuggingFace's implementation of BERT model\n",
        "# ########################################################################\n",
        "# from nlp_lib.models.bert_hf import load_custom_configured_hf_bert\n",
        "# bert = load_custom_configured_hf_bert('bert_tiny.bin', device)\n",
        "\n",
        "# Pearson correlation: 0.25\n",
        "# Spearman correlation: 0.21\n",
        "# # #########################################################\n",
        "\n",
        "\n",
        "#WARNING: Change this code if you implemented a different nli loader for this part\n",
        "nli_dataset = load_nli_dataset('AllNLI.tsv.gz')\n",
        "\n",
        "#INFO: tokenize dataset\n",
        "#WARNING: Use only first 50000 samples and maximum sequence lenght of 128\n",
        "tokenized_train = tokenize_sentence_pair_nli_dataset(nli_dataset['train'][:50000], tokenizer, device, max_length=128)\n",
        "# Added\n",
        "tokenized_train = {key: tensor.to(device) for key, tensor in tokenized_train.items()}\n",
        "tokenized_train = adjust_labels_for_contrastive_loss(tokenized_train)\n",
        "\n",
        "#INFO: generate train_dataloader\n",
        "train_dataloader = get_nli_dataloader(tokenized_train, batch_size=train_batch_size)\n",
        "\n",
        "#TODO: Create a BertContrastive with required parameters\n",
        "bert = Bert(bert_config).load_model('bert_tiny.bin')\n",
        "bert_contrastive = BertContrastive(bert, bert_config[\"hidden_size\"])\n",
        "# Pearson correlation: 0.30\n",
        "# Spearman correlation: 0.28\n",
        "\n",
        "#INFO: create optimizer and run training loop\n",
        "optimizer = AdamW(bert_contrastive.parameters(), lr=5e-5)\n",
        "# train_loop(bert_contrastive, optimizer, train_dataloader, num_epochs, device)\n",
        "train_loop_bert_contrastive(bert_contrastive, optimizer, train_dataloader, num_epochs, device)"
      ]
    },
    {
      "cell_type": "markdown",
      "metadata": {
        "id": "dzpGJpXe90qB"
      },
      "source": [
        "**Evaluation**"
      ]
    },
    {
      "cell_type": "code",
      "execution_count": null,
      "metadata": {
        "colab": {
          "base_uri": "https://localhost:8080/"
        },
        "id": "g69xrkFl9yQP",
        "outputId": "0cfdccab-0768-49cc-f2e1-3ab6a84d824e"
      },
      "outputs": [
        {
          "name": "stdout",
          "output_type": "stream",
          "text": [
            "\n",
            "Pearson correlation: 0.30\n",
            "Spearman correlation: 0.28\n"
          ]
        }
      ],
      "source": [
        "#TODO: run evaluation loop\n",
        "bert = bert.to(device)\n",
        "result_from_contrastive = eval_loop(bert_contrastive, tokenizer, test_dataloader, device, model_type=\"contrastive\")\n",
        "print(f'\\nPearson correlation: {result_from_contrastive[0]:.2f}\\nSpearman correlation: {result_from_contrastive[1]:.2f}')"
      ]
    },
    {
      "cell_type": "markdown",
      "metadata": {
        "id": "4SbaQse096bx"
      },
      "source": [
        "# **Coding Challenge Part 5: Comparison [1 Point]**\n",
        "\n",
        "In the final part of the coding challenge, you are asked to compare the result of pretrained BERT, classification based BERT, and contrastive method based BERT.\n",
        "\n",
        "These are the tasks **[1 Point]**:\n",
        "\n",
        "\n",
        "*   Plot the result for each model\n",
        "*   Explain the difference between methods and their impact on the result and comparison"
      ]
    },
    {
      "cell_type": "markdown",
      "metadata": {
        "id": "QPCfgyKpotya"
      },
      "source": [
        "**Answer**\n",
        "\n",
        "\n",
        "\n",
        "* Performance metrics for three BERT variations: pretrained BERT, BERT tailored for classification, and BERT utilizing contrastive methods.\n",
        "\n",
        "* For each of these models, sharing results for two versions: one using the Huggingface BERT framework and the other using a custom BERT implementation. Both versions are configured identically and are initialized using the same pretrained weights from the 'tiny_bert.bin' file.\n",
        "\n",
        "----\n",
        "\n",
        "**Comparison based on the results for Huggingface BERT:**\n",
        "\n",
        "pearson_hf = [0.42, 0.43, 0.25]\n",
        "spearman_hf = [0.44, 0.34, 0.21]\n",
        "\n",
        "----\n",
        "\n",
        "**Pretrained BERT:**\n",
        "- Utilizes a pretrained BERT model without additional task-specific training.\n",
        "- Demonstrates the power of transfer learning: general language understanding from pretraining helps with the STS task.\n",
        "- Achieves fairly close Pearson and Spearman scores:\n",
        "  - **Pearson**: 0.42\n",
        "  - **Spearman**: 0.44\n",
        "- Implication: Model captures both linear relationships and rank order between embeddings.\n",
        "\n",
        "-------\n",
        "\n",
        "**BertClassifier :**\n",
        "- **Architecture:**\n",
        "  - Uses BERT embeddings for sentence representations.\n",
        "  - Combines embeddings using concatenation and their absolute difference.\n",
        "  - Passes resultant tensor through a classifier.\n",
        "- **Performance:**\n",
        "  - Pearson: 0.43\n",
        "  - Spearman: 0.34.\n",
        "- **Analysis:**\n",
        "  - Drop in Spearman's correlation might be due to added complexity.\n",
        "  - Model may be influenced by outliers or noise in the dataset.\n",
        "\n",
        "--------\n",
        "\n",
        "**BertContrastive :**\n",
        "- **Architecture:**\n",
        "  - Uses BERT for sentence embeddings.\n",
        "  - Computes contrastive loss between sentence pair embeddings.\n",
        "- **Performance:**\n",
        "  - Pearson: 0.25\n",
        "  - Spearman: 0.21.\n",
        "- **Analysis:**\n",
        "  - Lower performance on STS dataset.\n",
        "  - **Leaving out data labeled as \"neutral\", decreases the training data size and might remove important context**.\n",
        "  * Improvement: [use the MultipleNegativesRankingLoss](https://www.sbert.net/docs/package_reference/losses.html#multiplenegativesrankingloss)\n",
        "   - **Input Format**:\n",
        "    - Pairs of sentences: (a_1, p_1), (a_2, p_2), ..., (a_n, p_n), where each pair (a_i, p_i) is a positive pair.\n",
        "    - Optional hard negatives: (a_1, p_1, n_1), (a_2, p_2, n_2), where n_1 and n_2 are hard negative examples for respective pairs.\n",
        "\n",
        "    - **Negative Sampling**:\n",
        "      - For each anchor `a_i`, all other `p_j` (for i ≠ j) are used as negative examples.\n",
        "      - If provided, hard negatives `n_i` are also used as negative examples for corresponding anchor-positive pairs.\n"
      ]
    },
    {
      "cell_type": "code",
      "execution_count": null,
      "metadata": {
        "colab": {
          "base_uri": "https://localhost:8080/",
          "height": 1000
        },
        "id": "V4L7RGMrpC5G",
        "outputId": "10f6216a-4890-41b3-b932-6d7774f61047"
      },
      "outputs": [
        {
          "data": {
            "image/png": "[encoded data removed]",
            "text/plain": [
              "<Figure size 1000x600 with 1 Axes>"
            ]
          },
          "metadata": {},
          "output_type": "display_data"
        },
        {
          "data": {
            "image/png": "[encoded data removed]",
            "text/plain": [
              "<Figure size 1000x600 with 1 Axes>"
            ]
          },
          "metadata": {},
          "output_type": "display_data"
        }
      ],
      "source": [
        "import matplotlib.pyplot as plt\n",
        "import numpy as np\n",
        "\n",
        "# Data\n",
        "models = ['Pretrained BERT', 'Classification BERT', 'Contrastive BERT']\n",
        "\n",
        "# Pearson and Spearman scores for Huggingface\n",
        "pearson_hf = [0.42, 0.43, 0.25]\n",
        "spearman_hf = [0.44, 0.34, 0.21]\n",
        "\n",
        "# Pearson and Spearman scores for Custom BERT\n",
        "pearson_custom = [0.42, 0.41, 0.30]\n",
        "spearman_custom = [0.44, 0.32, 0.28]\n",
        "\n",
        "barWidth = 0.15\n",
        "r1 = np.arange(len(models))\n",
        "r2 = [x + barWidth for x in r1]\n",
        "\n",
        "# Plot for Huggingface BERT\n",
        "plt.figure(figsize=(10,6))\n",
        "plt.bar(r1, pearson_hf, color='b', width=barWidth, edgecolor='grey', label='Pearson')\n",
        "plt.bar(r2, spearman_hf, color='c', width=barWidth, edgecolor='grey', label='Spearman')\n",
        "plt.title('Performance Metrics for Huggingface BERT Variations', fontweight='bold')\n",
        "plt.xlabel('BERT Models', fontweight='bold')\n",
        "plt.ylabel('Score', fontweight='bold')\n",
        "plt.xticks([r + barWidth for r in range(len(pearson_hf))], models)\n",
        "plt.legend()\n",
        "plt.show()\n",
        "\n",
        "# Plot for Custom BERT\n",
        "plt.figure(figsize=(10,6))\n",
        "plt.bar(r1, pearson_custom, color='b', width=barWidth, edgecolor='grey', label='Pearson')\n",
        "plt.bar(r2, spearman_custom, color='c', width=barWidth, edgecolor='grey', label='Spearman')\n",
        "plt.title('Performance Metrics for Custom BERT Variations', fontweight='bold')\n",
        "plt.xlabel('BERT Models', fontweight='bold')\n",
        "plt.ylabel('Score', fontweight='bold')\n",
        "plt.xticks([r + barWidth for r in range(len(pearson_custom))], models)\n",
        "plt.legend()\n",
        "plt.tight_layout()\n",
        "plt.show()\n"
      ]
    },
    {
      "cell_type": "markdown",
      "metadata": {
        "id": "9__3lchp97BM"
      },
      "source": [
        "# **[OPTIONAL] Explore an alternative way to improve sentence encoder in terms of *performance* or *efficiency* [6 Points]**\n",
        "\n",
        "Potential directions:\n",
        "*   Improve the methodology to compute higher quality sentence embeddings  \n",
        "*   Improve the efficiency during fine-tuning in terms of memory or training time\n",
        "*   Use different machine learning methods that leverages other resources such as auxillary/teacher models\n",
        "*   Use different datasets with other training objectives\n",
        "\n",
        "\n",
        "**You can use any additional model, dataset, library or package for this part!!**"
      ]
    },
    {
      "cell_type": "markdown",
      "metadata": {
        "id": "yUPJWxXglCw3"
      },
      "source": [
        "# Sentence Transformers\n",
        "\n",
        "References\n",
        "* https://www.sbert.net/docs/pretrained_models.html#sentence-embedding-models/\n",
        "* https://huggingface.co/sentence-transformers/all-mpnet-base-v2\n",
        "* https://discuss.huggingface.co/t/train-the-best-sentence-embedding-model-ever-with-1b-training-pairs/7354/21"
      ]
    },
    {
      "cell_type": "code",
      "execution_count": null,
      "metadata": {
        "colab": {
          "base_uri": "https://localhost:8080/"
        },
        "id": "OkckPcDZ3OMd",
        "outputId": "64dc5724-3bc4-41ac-caeb-0387d3897b83"
      },
      "outputs": [
        {
          "name": "stdout",
          "output_type": "stream",
          "text": [
            "Mounted at /content/gdrive\n"
          ]
        }
      ],
      "source": [
        "from google.colab import drive\n",
        "drive.mount('/content/gdrive', force_remount=True)\n",
        "\n",
        "import sys\n",
        "sys.path.append('/content/gdrive/My Drive/')"
      ]
    },
    {
      "cell_type": "code",
      "execution_count": null,
      "metadata": {
        "id": "tUGLaHTu3gSo"
      },
      "outputs": [],
      "source": [
        "import json\n",
        "import math\n",
        "from collections import OrderedDict\n",
        "import torch\n",
        "from torch import nn, Tensor\n",
        "from typing import Union, Tuple, List, Iterable, Dict\n",
        "import torch.nn.functional as F\n",
        "from torch.nn.parameter import Parameter\n",
        "from torch.optim import AdamW\n",
        "from torch.utils.data import DataLoader\n",
        "from scipy.stats import pearsonr, spearmanr\n",
        "import numpy as np\n",
        "import gzip, csv\n",
        "import pandas as pd\n",
        "from tqdm.auto import tqdm\n",
        "\n",
        "torch.manual_seed(0)\n",
        "np.random.seed(0)"
      ]
    },
    {
      "cell_type": "code",
      "execution_count": null,
      "metadata": {
        "colab": {
          "base_uri": "https://localhost:8080/"
        },
        "id": "9_EJTIhT3r5L",
        "outputId": "c161b733-fdf5-493d-8829-8c330434ad6c"
      },
      "outputs": [
        {
          "name": "stdout",
          "output_type": "stream",
          "text": [
            "Requirement already satisfied: transformers in /usr/local/lib/python3.10/dist-packages (4.33.3)\n",
            "Requirement already satisfied: filelock in /usr/local/lib/python3.10/dist-packages (from transformers) (3.12.2)\n",
            "Requirement already satisfied: huggingface-hub<1.0,>=0.15.1 in /usr/local/lib/python3.10/dist-packages (from transformers) (0.17.3)\n",
            "Requirement already satisfied: numpy>=1.17 in /usr/local/lib/python3.10/dist-packages (from transformers) (1.23.5)\n",
            "Requirement already satisfied: packaging>=20.0 in /usr/local/lib/python3.10/dist-packages (from transformers) (23.1)\n",
            "Requirement already satisfied: pyyaml>=5.1 in /usr/local/lib/python3.10/dist-packages (from transformers) (6.0.1)\n",
            "Requirement already satisfied: regex!=2019.12.17 in /usr/local/lib/python3.10/dist-packages (from transformers) (2023.6.3)\n",
            "Requirement already satisfied: requests in /usr/local/lib/python3.10/dist-packages (from transformers) (2.31.0)\n",
            "Requirement already satisfied: tokenizers!=0.11.3,<0.14,>=0.11.1 in /usr/local/lib/python3.10/dist-packages (from transformers) (0.13.3)\n",
            "Requirement already satisfied: safetensors>=0.3.1 in /usr/local/lib/python3.10/dist-packages (from transformers) (0.3.3)\n",
            "Requirement already satisfied: tqdm>=4.27 in /usr/local/lib/python3.10/dist-packages (from transformers) (4.66.1)\n",
            "Requirement already satisfied: fsspec in /usr/local/lib/python3.10/dist-packages (from huggingface-hub<1.0,>=0.15.1->transformers) (2023.6.0)\n",
            "Requirement already satisfied: typing-extensions>=3.7.4.3 in /usr/local/lib/python3.10/dist-packages (from huggingface-hub<1.0,>=0.15.1->transformers) (4.5.0)\n",
            "Requirement already satisfied: charset-normalizer<4,>=2 in /usr/local/lib/python3.10/dist-packages (from requests->transformers) (3.2.0)\n",
            "Requirement already satisfied: idna<4,>=2.5 in /usr/local/lib/python3.10/dist-packages (from requests->transformers) (3.4)\n",
            "Requirement already satisfied: urllib3<3,>=1.21.1 in /usr/local/lib/python3.10/dist-packages (from requests->transformers) (2.0.4)\n",
            "Requirement already satisfied: certifi>=2017.4.17 in /usr/local/lib/python3.10/dist-packages (from requests->transformers) (2023.7.22)\n"
          ]
        }
      ],
      "source": [
        "%pip install transformers\n",
        "from transformers import AutoTokenizer, AutoModel"
      ]
    },
    {
      "cell_type": "code",
      "execution_count": null,
      "metadata": {
        "id": "DuBSwPSX3Xo5"
      },
      "outputs": [],
      "source": [
        "# !wget https://sbert.net/datasets/stsbenchmark.tsv.gz"
      ]
    },
    {
      "cell_type": "code",
      "execution_count": null,
      "metadata": {
        "id": "8seW-MYiu7bl"
      },
      "outputs": [],
      "source": [
        "# %pip install -U sentence-transformers"
      ]
    },
    {
      "cell_type": "code",
      "execution_count": null,
      "metadata": {
        "colab": {
          "base_uri": "https://localhost:8080/",
          "height": 104
        },
        "id": "-PkDg3mpFo4y",
        "outputId": "a7caa080-5574-445b-a99b-b690c1852f17"
      },
      "outputs": [
        {
          "data": {
            "text/html": [
              "<span style='color: yellow'>Sentence1: A girl is styling her hair., Sentence2: A girl is brushing her hair., Score: 2.5</span>"
            ],
            "text/plain": [
              "<IPython.core.display.HTML object>"
            ]
          },
          "metadata": {},
          "output_type": "display_data"
        },
        {
          "data": {
            "text/html": [
              "<span style='color: yellow'>Sentence1: A group of men play soccer on the beach., Sentence2: A group of boys are playing soccer on the beach., Score: 3.6</span>"
            ],
            "text/plain": [
              "<IPython.core.display.HTML object>"
            ]
          },
          "metadata": {},
          "output_type": "display_data"
        },
        {
          "name": "stdout",
          "output_type": "stream",
          "text": [
            "\n",
            "Pearson correlation: 0.84\n",
            "Spearman correlation: 0.83\n"
          ]
        }
      ],
      "source": [
        "from nlp_lib.dataset_utils import load_sts_dataset, tokenize_sentence_pair_sts_dataset_v2, collate_fn_v2, get_sts_dataloader_v2\n",
        "from nlp_lib.eval_utils import eval_loop_v2\n",
        "\n",
        "device = torch.device(\"cuda\") if torch.cuda.is_available() else torch.device(\"cpu\")\n",
        "\n",
        "# Load model from HuggingFace Hub\n",
        "tokenizer = AutoTokenizer.from_pretrained('sentence-transformers/all-mpnet-base-v2')\n",
        "\n",
        "model_all_mpnet_base_v2 = AutoModel.from_pretrained('sentence-transformers/all-mpnet-base-v2')\n",
        "model_all_mpnet_base_v2 = model_all_mpnet_base_v2.to(device)\n",
        "\n",
        "#INFO: load dataset\n",
        "sts_dataset = load_sts_dataset('stsbenchmark.tsv.gz')\n",
        "\n",
        "#INFO: tokenize dataset\n",
        "tokenized_test = tokenize_sentence_pair_sts_dataset_v2(sts_dataset['test'], tokenizer)\n",
        "\n",
        "#INFO: generate dataloader\n",
        "test_dataloader = get_sts_dataloader_v2(tokenized_test, batch_size=1)\n",
        "\n",
        "result_from_all_mpnet_base_v2 = eval_loop_v2(model_all_mpnet_base_v2, tokenizer, test_dataloader, device, model_type=\"all_mpnet_base_v2\")\n",
        "print(f'\\nPearson correlation: {result_from_all_mpnet_base_v2[0]:.2f}\\nSpearman correlation: {result_from_all_mpnet_base_v2[1]:.2f}')\n",
        "\n",
        "\"\"\"\n",
        "Pearson correlation: 0.84\n",
        "Spearman correlation: 0.83\n",
        "\"\"\""
      ]
    },
    {
      "cell_type": "markdown",
      "metadata": {
        "id": "5XPwXTUSjTi6"
      },
      "source": [
        "# Llama2 7B"
      ]
    },
    {
      "cell_type": "code",
      "execution_count": null,
      "metadata": {
        "id": "rA2Wj8UzjZ-U"
      },
      "outputs": [],
      "source": [
        "%pip install transformers\n",
        "%pip install huggingface-cli\n",
        "!huggingface-cli login\n"
      ]
    },
    {
      "cell_type": "code",
      "execution_count": null,
      "metadata": {
        "id": "xnOWlBOEjbip"
      },
      "outputs": [],
      "source": [
        "%pip install transformers\n",
        "from transformers import AutoTokenizer, AutoModel"
      ]
    },
    {
      "cell_type": "code",
      "execution_count": null,
      "metadata": {
        "id": "EemAsaejjeRU"
      },
      "outputs": [],
      "source": [
        "import json\n",
        "import math\n",
        "from collections import OrderedDict\n",
        "import torch\n",
        "from torch import nn, Tensor\n",
        "from typing import Union, Tuple, List, Iterable, Dict\n",
        "import torch.nn.functional as F\n",
        "from torch.nn.parameter import Parameter\n",
        "from torch.optim import AdamW\n",
        "from torch.utils.data import DataLoader\n",
        "from scipy.stats import pearsonr, spearmanr\n",
        "import numpy as np\n",
        "import gzip, csv\n",
        "import pandas as pd\n",
        "from tqdm.auto import tqdm\n",
        "\n",
        "torch.manual_seed(0)\n",
        "np.random.seed(0)"
      ]
    },
    {
      "cell_type": "code",
      "execution_count": null,
      "metadata": {
        "id": "a88UTOUCjhmf"
      },
      "outputs": [],
      "source": [
        "def mean_pooling(model_output, attention_mask):\n",
        "    # First element of model_output contains all token embeddings\n",
        "    token_embeddings = model_output[0]\n",
        "    input_mask_expanded = attention_mask.unsqueeze(\n",
        "        -1).expand(token_embeddings.size()).float()\n",
        "    return torch.sum(token_embeddings * input_mask_expanded, 1) / torch.clamp(input_mask_expanded.sum(1), min=1e-9)\n",
        "\n",
        "def cosine_sim(a, b):\n",
        "    dot_product = torch.mm(a, b.t())\n",
        "    norm_a = a.norm(dim=1).unsqueeze(1)\n",
        "    norm_b = b.norm(dim=1).unsqueeze(0)\n",
        "    # Adding a small value to the denominator to prevent division by zero\n",
        "    return dot_product / (norm_a * norm_b + 1e-7)\n",
        "\n",
        "def eval_loop_v2(model, tokenizer, eval_dataloader, device, model_type=\"bert\"):\n",
        "    model.eval()\n",
        "    all_scores = []\n",
        "    all_cosine_similarities = []\n",
        "\n",
        "    sep_token_id = tokenizer.sep_token_id\n",
        "\n",
        "    for batch in eval_dataloader:\n",
        "        if model_type == \"all_mpnet_base_v2\" or model_type == \"llama_2\":\n",
        "            input_ids_1 = batch[\"input_ids_1\"].to(device)\n",
        "            attention_mask_1 = batch[\"attention_mask_1\"].to(device)\n",
        "            input_ids_2 = batch[\"input_ids_2\"].to(device)\n",
        "            attention_mask_2 = batch[\"attention_mask_2\"].to(device)\n",
        "        else:\n",
        "            input_ids = batch[\"input_ids\"].to(device)\n",
        "            attention_mask = batch[\"attention_mask\"].to(device)\n",
        "        scores = batch[\"score\"].to(device)\n",
        "\n",
        "        token_type_ids = batch.get(\"token_type_ids\")\n",
        "        if token_type_ids is not None:\n",
        "            token_type_ids = token_type_ids.to(device)\n",
        "\n",
        "        with torch.no_grad():\n",
        "\n",
        "            # Use the flag to determine output type\n",
        "            if model_type == \"classifier\":\n",
        "                outputs = model(input_ids=input_ids, attention_mask=attention_mask,\n",
        "                                return_embeddings=True if model_type == \"classifier\" else False)\n",
        "                embedding1, embedding2 = outputs\n",
        "            elif model_type == \"bert\":\n",
        "                outputs = model(input_ids=input_ids,\n",
        "                                attention_mask=attention_mask)\n",
        "                embeddings = outputs[0]\n",
        "                sep_indices = (input_ids == sep_token_id).nonzero(\n",
        "                    as_tuple=True)[1]\n",
        "                embedding1 = embeddings[:, :sep_indices[0]].mean(dim=1)\n",
        "                embedding2 = embeddings[:, sep_indices[0] +\n",
        "                                        1:sep_indices[1]].mean(dim=1)\n",
        "            elif model_type == \"contrastive\":\n",
        "                embedding1, embedding2 = model(\n",
        "                    input_ids=input_ids, attention_mask=attention_mask, token_type_ids=token_type_ids, return_embeddings=True)\n",
        "\n",
        "            elif model_type == \"all_mpnet_base_v2\" or model_type == \"llama_2\":\n",
        "                embeddings_1 = model(input_ids=batch['input_ids_1'].to(\n",
        "                    device), attention_mask=batch['attention_mask_1'].to(device))\n",
        "                embeddings_2 = model(input_ids=batch['input_ids_2'].to(\n",
        "                    device), attention_mask=batch['attention_mask_2'].to(device))\n",
        "\n",
        "                sentence_embeddings_1 = mean_pooling(\n",
        "                    embeddings_1, batch['attention_mask_1'].to(device))\n",
        "                sentence_embeddings_2 = mean_pooling(\n",
        "                    embeddings_2, batch['attention_mask_2'].to(device))\n",
        "\n",
        "                # Normalize embeddings\n",
        "                embedding1 = F.normalize(sentence_embeddings_1, p=2, dim=1)\n",
        "                embedding2 = F.normalize(sentence_embeddings_2, p=2, dim=1)\n",
        "\n",
        "            else:\n",
        "                raise ValueError(f\"Unknown model_type: {model_type}\")\n",
        "\n",
        "            cosine_sim_values = cosine_sim(embedding1, embedding2).diagonal()\n",
        "            all_cosine_similarities.extend(cosine_sim_values.cpu().numpy())\n",
        "            all_scores.extend(scores.cpu().numpy())\n",
        "\n",
        "    eval_pearson_cosine = pearsonr(all_scores, all_cosine_similarities)[0]\n",
        "    eval_spearman_cosine = spearmanr(all_scores, all_cosine_similarities)[0]\n",
        "\n",
        "    return [eval_pearson_cosine, eval_spearman_cosine]"
      ]
    },
    {
      "cell_type": "code",
      "execution_count": null,
      "metadata": {
        "id": "b5vx2KoVjS_u"
      },
      "outputs": [],
      "source": [
        "from nlp_lib.dataset_utils import load_sts_dataset, tokenize_sentence_pair_sts_dataset_v2, collate_fn_v2, get_sts_dataloader_v2\n",
        "# from nlp_lib.eval_utils import eval_loop_v2\n",
        "\n",
        "device = torch.device(\"cuda\") if torch.cuda.is_available() else torch.device(\"cpu\")\n",
        "\n",
        "# Load model from HuggingFace Hub\n",
        "tokenizer_llama_2 = AutoTokenizer.from_pretrained('meta-llama/Llama-2-7b-chat-hf')\n",
        "\n",
        "model_llama_2 = AutoModel.from_pretrained('meta-llama/Llama-2-7b-chat-hf')\n",
        "model_llama_2 = model_llama_2.to(device)\n",
        "\n",
        "#INFO: load dataset\n",
        "sts_dataset = load_sts_dataset('stsbenchmark.tsv.gz')\n",
        "\n",
        "tokenizer_llama_2.pad_token = tokenizer_llama_2.eos_token\n",
        "\n",
        "#INFO: tokenize dataset\n",
        "tokenized_test = tokenize_sentence_pair_sts_dataset_v2(sts_dataset['test'], tokenizer_llama_2)\n",
        "\n",
        "#INFO: generate dataloader\n",
        "test_dataloader = get_sts_dataloader_v2(tokenized_test, batch_size=1)\n",
        "\n",
        "result_from_model_llama_2 = eval_loop_v2(model_llama_2, tokenizer_llama_2, test_dataloader, device, model_type=\"llama_2\")\n",
        "print(f'\\nPearson correlation: {result_from_model_llama_2[0]:.2f}\\nSpearman correlation: {result_from_model_llama_2[1]:.2f}')\n",
        "\n",
        "\"\"\"\n",
        "Pearson correlation: 0.49\n",
        "Spearman correlation: 0.48\n",
        "\"\"\""
      ]
    },
    {
      "cell_type": "markdown",
      "metadata": {
        "id": "La04lNDBqeb6"
      },
      "source": [
        "## Efficiency during finetuning\n",
        "\n",
        "\n",
        "\n",
        "* **Pruning**: Can be used to remove less important neurons or connections, reducing the model size and speeding up training without a significant loss in performance.\n",
        "* **Quantization**: It allows for the reduction of the precision of the weights and biases, reducing memory requirements and speeding up training and inference."
      ]
    },
    {
      "cell_type": "markdown",
      "metadata": {
        "id": "n3HFCs_Ksc7k"
      },
      "source": [
        "## Dynamic Quantization applied to pretrained Bert\n",
        "\n",
        "* Dynamic quantization only quantizes the weights, and it does so post-training.\n",
        "* It's a lightweight way to get the benefits of quantization without the complexity of training with quantization."
      ]
    },
    {
      "cell_type": "code",
      "execution_count": null,
      "metadata": {
        "id": "UXgw2yMysZKt"
      },
      "outputs": [],
      "source": [
        "### RUN the below with CPU backend\n",
        "\n",
        "\n",
        "from transformers import AutoModel, AutoTokenizer, BertConfig\n",
        "import os\n",
        "import torch\n",
        "import torch.nn as nn\n",
        "from torch.quantization import quantize_dynamic\n",
        "\n",
        "from nlp_lib.dataset_utils import load_sts_dataset, tokenize_sentence_pair_sts_dataset, get_sts_dataloader\n",
        "from nlp_lib.eval_utils import eval_loop\n",
        "\n",
        "device = torch.device(\"cuda\") if torch.cuda.is_available() else torch.device(\"cpu\")\n",
        "\n",
        "#INFO: model and tokenizer\n",
        "model_name = 'prajjwal1/bert-tiny'\n",
        "tokenizer = AutoTokenizer.from_pretrained(model_name)\n",
        "\n",
        "# Get the loaded model\n",
        "from nlp_lib.models.bert_hf import load_custom_configured_hf_bert\n",
        "bert = load_custom_configured_hf_bert('bert_tiny.bin', device)\n",
        "\n",
        "# Quantize the model dynamically\n",
        "bert_quantized = quantize_dynamic(bert, {nn.Linear}, dtype=torch.qint8)\n",
        "\n",
        "#INFO: load dataset\n",
        "sts_dataset = load_sts_dataset('stsbenchmark.tsv.gz')\n",
        "\n",
        "#INFO: tokenize dataset\n",
        "tokenized_test = tokenize_sentence_pair_sts_dataset(sts_dataset['test'], tokenizer)\n",
        "\n",
        "#INFO: generate dataloader\n",
        "test_dataloader = get_sts_dataloader(tokenized_test, batch_size=1)\n",
        "\n",
        "#INFO: run evaluation loop\n",
        "device = torch.device(\"cuda\") if torch.cuda.is_available() else torch.device(\"cpu\")\n",
        "bert = bert.to(device)\n",
        "results_from_pretrained = eval_loop(bert_quantized, tokenizer, test_dataloader, device)\n",
        "\n",
        "print(f'\\nPearson correlation: {results_from_pretrained[0]:.2f}\\nSpearman correlation: {results_from_pretrained[1]:.2f}')\n",
        "\n",
        "# Pearson correlation: 0.41\n",
        "# Spearman correlation: 0.44\n"
      ]
    },
    {
      "cell_type": "markdown",
      "metadata": {
        "id": "YUI7VRDHv47Q"
      },
      "source": [
        "Model Size Measurement:\n",
        "* To measure the model size, we can save the model to disk and then check the file size."
      ]
    },
    {
      "cell_type": "code",
      "execution_count": null,
      "metadata": {
        "id": "8DYJpTEVv2hW"
      },
      "outputs": [],
      "source": [
        "# Before quantization\n",
        "torch.save(bert.state_dict(), \"before_quantization.pth\")\n",
        "size_before_quantization = os.path.getsize(\"before_quantization.pth\")\n",
        "\n",
        "# After quantization\n",
        "torch.save(bert_quantized.state_dict(), \"after_quantization.pth\")\n",
        "size_after_quantization = os.path.getsize(\"after_quantization.pth\")\n",
        "\n",
        "print(f\"Size before quantization: {size_before_quantization / (1024 ** 2):.2f} MB\")\n",
        "print(f\"Size after quantization: {size_after_quantization / (1024 ** 2):.2f} MB\")\n",
        "\n",
        "# Size before quantization: 16.75 MB\n",
        "# Size after quantization: 15.58 MB"
      ]
    },
    {
      "cell_type": "markdown",
      "metadata": {
        "id": "7YcQtalKwMwQ"
      },
      "source": [
        "Inference Speed Measurement:\n",
        "* To measure the inference speed, we record the start and end times for inference with a certain number of inputs."
      ]
    },
    {
      "cell_type": "code",
      "execution_count": null,
      "metadata": {
        "id": "dyziz8H2wWYb"
      },
      "outputs": [],
      "source": [
        "import time\n",
        "\n",
        "\n",
        "for batch in test_dataloader:\n",
        "  input_ids_sample = batch[\"input_ids\"].to(device)\n",
        "  attention_mask_sample = batch[\"attention_mask\"].to(device)\n",
        "  break;\n",
        "\n",
        "num_inferences = 1000\n",
        "start_time = time.time()\n",
        "\n",
        "for _ in range(num_inferences):\n",
        "    with torch.no_grad():\n",
        "        outputs = bert(input_ids_sample, attention_mask_sample)\n",
        "\n",
        "end_time = time.time()\n",
        "time_without_quantization = end_time - start_time\n",
        "\n",
        "start_time = time.time()\n",
        "\n",
        "for _ in range(num_inferences):\n",
        "    with torch.no_grad():\n",
        "        outputs = bert_quantized(input_ids_sample, attention_mask_sample)\n",
        "\n",
        "end_time = time.time()\n",
        "time_with_quantization = end_time - start_time\n",
        "\n",
        "print(f\"Time without quantization: {time_without_quantization:.4f} seconds\")\n",
        "print(f\"Time with quantization: {time_with_quantization:.4f} seconds\")\n",
        "\n",
        "# Time without quantization: 12.3934 seconds\n",
        "# Time with quantization: 10.8917 seconds\n"
      ]
    },
    {
      "cell_type": "markdown",
      "metadata": {
        "id": "laK2hxY0xiwN"
      },
      "source": [
        "For the case of the \"tiny\" BERT model, the absolute gains might seem modest because:\n",
        "\n",
        "* The model is already quite small, so there's less room for reduction.\n",
        "* Dynamic quantization might not leverage the full potential speedup or size reduction possible with other methods like static quantization or quantization-aware training.\n"
      ]
    }
  ],
  "metadata": {
    "accelerator": "GPU",
    "colab": {
      "gpuType": "T4",
      "provenance": []
    },
    "kernelspec": {
      "display_name": "Python 3",
      "name": "python3"
    },
    "language_info": {
      "name": "python"
    },
    "widgets": {
      "application/vnd.jupyter.widget-state+json": {
        "01c214a5081549bdb836e3942dc17a6a": {
          "model_module": "@jupyter-widgets/controls",
          "model_module_version": "1.5.0",
          "model_name": "HBoxModel",
          "state": {
            "_dom_classes": [],
            "_model_module": "@jupyter-widgets/controls",
            "_model_module_version": "1.5.0",
            "_model_name": "HBoxModel",
            "_view_count": null,
            "_view_module": "@jupyter-widgets/controls",
            "_view_module_version": "1.5.0",
            "_view_name": "HBoxView",
            "box_style": "",
            "children": [
              "IPY_MODEL_decc4a29d10a4fada1d62404a58c64cc",
              "IPY_MODEL_6788d79a25f348f89c8e092da6a21995",
              "IPY_MODEL_17f00e1855ae4da581c82a4952b381de"
            ],
            "layout": "IPY_MODEL_1797f6387a424923a098f07d7d3fbc95"
          }
        },
        "03c33c2e97f3444192844f1bb9603851": {
          "model_module": "@jupyter-widgets/controls",
          "model_module_version": "1.5.0",
          "model_name": "FloatProgressModel",
          "state": {
            "_dom_classes": [],
            "_model_module": "@jupyter-widgets/controls",
            "_model_module_version": "1.5.0",
            "_model_name": "FloatProgressModel",
            "_view_count": null,
            "_view_module": "@jupyter-widgets/controls",
            "_view_module_version": "1.5.0",
            "_view_name": "ProgressView",
            "bar_style": "success",
            "description": "",
            "description_tooltip": null,
            "layout": "IPY_MODEL_aca3d39def4d4798bb8f390f763cbb04",
            "max": 4171,
            "min": 0,
            "orientation": "horizontal",
            "style": "IPY_MODEL_bfa13acdd9e04a0f8f7641ba0b2f6ed1",
            "value": 4171
          }
        },
        "0f0477e2129347b299b933cd1de30681": {
          "model_module": "@jupyter-widgets/base",
          "model_module_version": "1.2.0",
          "model_name": "LayoutModel",
          "state": {
            "_model_module": "@jupyter-widgets/base",
            "_model_module_version": "1.2.0",
            "_model_name": "LayoutModel",
            "_view_count": null,
            "_view_module": "@jupyter-widgets/base",
            "_view_module_version": "1.2.0",
            "_view_name": "LayoutView",
            "align_content": null,
            "align_items": null,
            "align_self": null,
            "border": null,
            "bottom": null,
            "display": null,
            "flex": null,
            "flex_flow": null,
            "grid_area": null,
            "grid_auto_columns": null,
            "grid_auto_flow": null,
            "grid_auto_rows": null,
            "grid_column": null,
            "grid_gap": null,
            "grid_row": null,
            "grid_template_areas": null,
            "grid_template_columns": null,
            "grid_template_rows": null,
            "height": null,
            "justify_content": null,
            "justify_items": null,
            "left": null,
            "margin": null,
            "max_height": null,
            "max_width": null,
            "min_height": null,
            "min_width": null,
            "object_fit": null,
            "object_position": null,
            "order": null,
            "overflow": null,
            "overflow_x": null,
            "overflow_y": null,
            "padding": null,
            "right": null,
            "top": null,
            "visibility": null,
            "width": null
          }
        },
        "1039293a41e74d469a9ec484e7a245f2": {
          "model_module": "@jupyter-widgets/controls",
          "model_module_version": "1.5.0",
          "model_name": "HTMLModel",
          "state": {
            "_dom_classes": [],
            "_model_module": "@jupyter-widgets/controls",
            "_model_module_version": "1.5.0",
            "_model_name": "HTMLModel",
            "_view_count": null,
            "_view_module": "@jupyter-widgets/controls",
            "_view_module_version": "1.5.0",
            "_view_name": "HTMLView",
            "description": "",
            "description_tooltip": null,
            "layout": "IPY_MODEL_e7d0c129d880498984af0d8cf0472d00",
            "placeholder": "​",
            "style": "IPY_MODEL_a04a3e523ab142e2afb1728f4ce0378b",
            "value": "100%"
          }
        },
        "146ea5fa21194398a1c2c4d6c61b8714": {
          "model_module": "@jupyter-widgets/controls",
          "model_module_version": "1.5.0",
          "model_name": "FloatProgressModel",
          "state": {
            "_dom_classes": [],
            "_model_module": "@jupyter-widgets/controls",
            "_model_module_version": "1.5.0",
            "_model_name": "FloatProgressModel",
            "_view_count": null,
            "_view_module": "@jupyter-widgets/controls",
            "_view_module_version": "1.5.0",
            "_view_name": "ProgressView",
            "bar_style": "success",
            "description": "",
            "description_tooltip": null,
            "layout": "IPY_MODEL_4484028581eb43dcb93443ad8185ea97",
            "max": 6250,
            "min": 0,
            "orientation": "horizontal",
            "style": "IPY_MODEL_c78eef3c4a0046ed8eca7f9df4ccfa57",
            "value": 6250
          }
        },
        "14c845feb0c24a1f82d88a77f18415e3": {
          "model_module": "@jupyter-widgets/base",
          "model_module_version": "1.2.0",
          "model_name": "LayoutModel",
          "state": {
            "_model_module": "@jupyter-widgets/base",
            "_model_module_version": "1.2.0",
            "_model_name": "LayoutModel",
            "_view_count": null,
            "_view_module": "@jupyter-widgets/base",
            "_view_module_version": "1.2.0",
            "_view_name": "LayoutView",
            "align_content": null,
            "align_items": null,
            "align_self": null,
            "border": null,
            "bottom": null,
            "display": null,
            "flex": null,
            "flex_flow": null,
            "grid_area": null,
            "grid_auto_columns": null,
            "grid_auto_flow": null,
            "grid_auto_rows": null,
            "grid_column": null,
            "grid_gap": null,
            "grid_row": null,
            "grid_template_areas": null,
            "grid_template_columns": null,
            "grid_template_rows": null,
            "height": null,
            "justify_content": null,
            "justify_items": null,
            "left": null,
            "margin": null,
            "max_height": null,
            "max_width": null,
            "min_height": null,
            "min_width": null,
            "object_fit": null,
            "object_position": null,
            "order": null,
            "overflow": null,
            "overflow_x": null,
            "overflow_y": null,
            "padding": null,
            "right": null,
            "top": null,
            "visibility": null,
            "width": null
          }
        },
        "1797f6387a424923a098f07d7d3fbc95": {
          "model_module": "@jupyter-widgets/base",
          "model_module_version": "1.2.0",
          "model_name": "LayoutModel",
          "state": {
            "_model_module": "@jupyter-widgets/base",
            "_model_module_version": "1.2.0",
            "_model_name": "LayoutModel",
            "_view_count": null,
            "_view_module": "@jupyter-widgets/base",
            "_view_module_version": "1.2.0",
            "_view_name": "LayoutView",
            "align_content": null,
            "align_items": null,
            "align_self": null,
            "border": null,
            "bottom": null,
            "display": null,
            "flex": null,
            "flex_flow": null,
            "grid_area": null,
            "grid_auto_columns": null,
            "grid_auto_flow": null,
            "grid_auto_rows": null,
            "grid_column": null,
            "grid_gap": null,
            "grid_row": null,
            "grid_template_areas": null,
            "grid_template_columns": null,
            "grid_template_rows": null,
            "height": null,
            "justify_content": null,
            "justify_items": null,
            "left": null,
            "margin": null,
            "max_height": null,
            "max_width": null,
            "min_height": null,
            "min_width": null,
            "object_fit": null,
            "object_position": null,
            "order": null,
            "overflow": null,
            "overflow_x": null,
            "overflow_y": null,
            "padding": null,
            "right": null,
            "top": null,
            "visibility": null,
            "width": null
          }
        },
        "17f00e1855ae4da581c82a4952b381de": {
          "model_module": "@jupyter-widgets/controls",
          "model_module_version": "1.5.0",
          "model_name": "HTMLModel",
          "state": {
            "_dom_classes": [],
            "_model_module": "@jupyter-widgets/controls",
            "_model_module_version": "1.5.0",
            "_model_name": "HTMLModel",
            "_view_count": null,
            "_view_module": "@jupyter-widgets/controls",
            "_view_module_version": "1.5.0",
            "_view_name": "HTMLView",
            "description": "",
            "description_tooltip": null,
            "layout": "IPY_MODEL_4fdb547396c24b28b3903e295d1f324f",
            "placeholder": "​",
            "style": "IPY_MODEL_d255185ff047473698c31c241d4909ed",
            "value": " 4171/4171 [01:12&lt;00:00, 66.20it/s]"
          }
        },
        "1a568770f4ba4edb83086cd21bfd89a1": {
          "model_module": "@jupyter-widgets/controls",
          "model_module_version": "1.5.0",
          "model_name": "HTMLModel",
          "state": {
            "_dom_classes": [],
            "_model_module": "@jupyter-widgets/controls",
            "_model_module_version": "1.5.0",
            "_model_name": "HTMLModel",
            "_view_count": null,
            "_view_module": "@jupyter-widgets/controls",
            "_view_module_version": "1.5.0",
            "_view_name": "HTMLView",
            "description": "",
            "description_tooltip": null,
            "layout": "IPY_MODEL_6d43d9cffc9243589d33ce8f94258c48",
            "placeholder": "​",
            "style": "IPY_MODEL_e96abcc721344654a13c0304048b2ea7",
            "value": " 4171/4171 [01:10&lt;00:00, 66.53it/s]"
          }
        },
        "1aa66a6da56c4c6e876df1816248eb95": {
          "model_module": "@jupyter-widgets/controls",
          "model_module_version": "1.5.0",
          "model_name": "HTMLModel",
          "state": {
            "_dom_classes": [],
            "_model_module": "@jupyter-widgets/controls",
            "_model_module_version": "1.5.0",
            "_model_name": "HTMLModel",
            "_view_count": null,
            "_view_module": "@jupyter-widgets/controls",
            "_view_module_version": "1.5.0",
            "_view_name": "HTMLView",
            "description": "",
            "description_tooltip": null,
            "layout": "IPY_MODEL_45c085b8309949eaa7d5ac94f2504771",
            "placeholder": "​",
            "style": "IPY_MODEL_82b00d89b52b4909b402246dd3da333f",
            "value": "100%"
          }
        },
        "1b3415b80a204c94836957d1f774ca0a": {
          "model_module": "@jupyter-widgets/controls",
          "model_module_version": "1.5.0",
          "model_name": "ProgressStyleModel",
          "state": {
            "_model_module": "@jupyter-widgets/controls",
            "_model_module_version": "1.5.0",
            "_model_name": "ProgressStyleModel",
            "_view_count": null,
            "_view_module": "@jupyter-widgets/base",
            "_view_module_version": "1.2.0",
            "_view_name": "StyleView",
            "bar_color": null,
            "description_width": ""
          }
        },
        "236ab48ada544eb6a4339d522c6efb89": {
          "model_module": "@jupyter-widgets/controls",
          "model_module_version": "1.5.0",
          "model_name": "HTMLModel",
          "state": {
            "_dom_classes": [],
            "_model_module": "@jupyter-widgets/controls",
            "_model_module_version": "1.5.0",
            "_model_name": "HTMLModel",
            "_view_count": null,
            "_view_module": "@jupyter-widgets/controls",
            "_view_module_version": "1.5.0",
            "_view_name": "HTMLView",
            "description": "",
            "description_tooltip": null,
            "layout": "IPY_MODEL_bfa6d1c438824259ab8b7d334f736405",
            "placeholder": "​",
            "style": "IPY_MODEL_9d2541ec568e4cdaaf2e16647d720875",
            "value": "100%"
          }
        },
        "27dc1afeebea493c84fbf5df5fa34d66": {
          "model_module": "@jupyter-widgets/controls",
          "model_module_version": "1.5.0",
          "model_name": "DescriptionStyleModel",
          "state": {
            "_model_module": "@jupyter-widgets/controls",
            "_model_module_version": "1.5.0",
            "_model_name": "DescriptionStyleModel",
            "_view_count": null,
            "_view_module": "@jupyter-widgets/base",
            "_view_module_version": "1.2.0",
            "_view_name": "StyleView",
            "description_width": ""
          }
        },
        "3d277133ec974d9196087ba6ba665fe4": {
          "model_module": "@jupyter-widgets/controls",
          "model_module_version": "1.5.0",
          "model_name": "ProgressStyleModel",
          "state": {
            "_model_module": "@jupyter-widgets/controls",
            "_model_module_version": "1.5.0",
            "_model_name": "ProgressStyleModel",
            "_view_count": null,
            "_view_module": "@jupyter-widgets/base",
            "_view_module_version": "1.2.0",
            "_view_name": "StyleView",
            "bar_color": null,
            "description_width": ""
          }
        },
        "41f1d5a6ace24454a3edace8627163a3": {
          "model_module": "@jupyter-widgets/controls",
          "model_module_version": "1.5.0",
          "model_name": "DescriptionStyleModel",
          "state": {
            "_model_module": "@jupyter-widgets/controls",
            "_model_module_version": "1.5.0",
            "_model_name": "DescriptionStyleModel",
            "_view_count": null,
            "_view_module": "@jupyter-widgets/base",
            "_view_module_version": "1.2.0",
            "_view_name": "StyleView",
            "description_width": ""
          }
        },
        "4288e7ea58144f55b8209e21bf5360b7": {
          "model_module": "@jupyter-widgets/controls",
          "model_module_version": "1.5.0",
          "model_name": "HBoxModel",
          "state": {
            "_dom_classes": [],
            "_model_module": "@jupyter-widgets/controls",
            "_model_module_version": "1.5.0",
            "_model_name": "HBoxModel",
            "_view_count": null,
            "_view_module": "@jupyter-widgets/controls",
            "_view_module_version": "1.5.0",
            "_view_name": "HBoxView",
            "box_style": "",
            "children": [
              "IPY_MODEL_1aa66a6da56c4c6e876df1816248eb95",
              "IPY_MODEL_4f7fec4aa3f345dfa0f186bfeb081dac",
              "IPY_MODEL_1a568770f4ba4edb83086cd21bfd89a1"
            ],
            "layout": "IPY_MODEL_71587c0b774f44669d7dd61b219d8675"
          }
        },
        "4484028581eb43dcb93443ad8185ea97": {
          "model_module": "@jupyter-widgets/base",
          "model_module_version": "1.2.0",
          "model_name": "LayoutModel",
          "state": {
            "_model_module": "@jupyter-widgets/base",
            "_model_module_version": "1.2.0",
            "_model_name": "LayoutModel",
            "_view_count": null,
            "_view_module": "@jupyter-widgets/base",
            "_view_module_version": "1.2.0",
            "_view_name": "LayoutView",
            "align_content": null,
            "align_items": null,
            "align_self": null,
            "border": null,
            "bottom": null,
            "display": null,
            "flex": null,
            "flex_flow": null,
            "grid_area": null,
            "grid_auto_columns": null,
            "grid_auto_flow": null,
            "grid_auto_rows": null,
            "grid_column": null,
            "grid_gap": null,
            "grid_row": null,
            "grid_template_areas": null,
            "grid_template_columns": null,
            "grid_template_rows": null,
            "height": null,
            "justify_content": null,
            "justify_items": null,
            "left": null,
            "margin": null,
            "max_height": null,
            "max_width": null,
            "min_height": null,
            "min_width": null,
            "object_fit": null,
            "object_position": null,
            "order": null,
            "overflow": null,
            "overflow_x": null,
            "overflow_y": null,
            "padding": null,
            "right": null,
            "top": null,
            "visibility": null,
            "width": null
          }
        },
        "45c085b8309949eaa7d5ac94f2504771": {
          "model_module": "@jupyter-widgets/base",
          "model_module_version": "1.2.0",
          "model_name": "LayoutModel",
          "state": {
            "_model_module": "@jupyter-widgets/base",
            "_model_module_version": "1.2.0",
            "_model_name": "LayoutModel",
            "_view_count": null,
            "_view_module": "@jupyter-widgets/base",
            "_view_module_version": "1.2.0",
            "_view_name": "LayoutView",
            "align_content": null,
            "align_items": null,
            "align_self": null,
            "border": null,
            "bottom": null,
            "display": null,
            "flex": null,
            "flex_flow": null,
            "grid_area": null,
            "grid_auto_columns": null,
            "grid_auto_flow": null,
            "grid_auto_rows": null,
            "grid_column": null,
            "grid_gap": null,
            "grid_row": null,
            "grid_template_areas": null,
            "grid_template_columns": null,
            "grid_template_rows": null,
            "height": null,
            "justify_content": null,
            "justify_items": null,
            "left": null,
            "margin": null,
            "max_height": null,
            "max_width": null,
            "min_height": null,
            "min_width": null,
            "object_fit": null,
            "object_position": null,
            "order": null,
            "overflow": null,
            "overflow_x": null,
            "overflow_y": null,
            "padding": null,
            "right": null,
            "top": null,
            "visibility": null,
            "width": null
          }
        },
        "4d0e695ccca64c8aaa942b9be339afb8": {
          "model_module": "@jupyter-widgets/base",
          "model_module_version": "1.2.0",
          "model_name": "LayoutModel",
          "state": {
            "_model_module": "@jupyter-widgets/base",
            "_model_module_version": "1.2.0",
            "_model_name": "LayoutModel",
            "_view_count": null,
            "_view_module": "@jupyter-widgets/base",
            "_view_module_version": "1.2.0",
            "_view_name": "LayoutView",
            "align_content": null,
            "align_items": null,
            "align_self": null,
            "border": null,
            "bottom": null,
            "display": null,
            "flex": null,
            "flex_flow": null,
            "grid_area": null,
            "grid_auto_columns": null,
            "grid_auto_flow": null,
            "grid_auto_rows": null,
            "grid_column": null,
            "grid_gap": null,
            "grid_row": null,
            "grid_template_areas": null,
            "grid_template_columns": null,
            "grid_template_rows": null,
            "height": null,
            "justify_content": null,
            "justify_items": null,
            "left": null,
            "margin": null,
            "max_height": null,
            "max_width": null,
            "min_height": null,
            "min_width": null,
            "object_fit": null,
            "object_position": null,
            "order": null,
            "overflow": null,
            "overflow_x": null,
            "overflow_y": null,
            "padding": null,
            "right": null,
            "top": null,
            "visibility": null,
            "width": null
          }
        },
        "4f7fec4aa3f345dfa0f186bfeb081dac": {
          "model_module": "@jupyter-widgets/controls",
          "model_module_version": "1.5.0",
          "model_name": "FloatProgressModel",
          "state": {
            "_dom_classes": [],
            "_model_module": "@jupyter-widgets/controls",
            "_model_module_version": "1.5.0",
            "_model_name": "FloatProgressModel",
            "_view_count": null,
            "_view_module": "@jupyter-widgets/controls",
            "_view_module_version": "1.5.0",
            "_view_name": "ProgressView",
            "bar_style": "success",
            "description": "",
            "description_tooltip": null,
            "layout": "IPY_MODEL_89ebcbc7e5b140b899dd6ec0eb9558e5",
            "max": 4171,
            "min": 0,
            "orientation": "horizontal",
            "style": "IPY_MODEL_7da7ee6794334c33801c186aa134e856",
            "value": 4171
          }
        },
        "4fdb547396c24b28b3903e295d1f324f": {
          "model_module": "@jupyter-widgets/base",
          "model_module_version": "1.2.0",
          "model_name": "LayoutModel",
          "state": {
            "_model_module": "@jupyter-widgets/base",
            "_model_module_version": "1.2.0",
            "_model_name": "LayoutModel",
            "_view_count": null,
            "_view_module": "@jupyter-widgets/base",
            "_view_module_version": "1.2.0",
            "_view_name": "LayoutView",
            "align_content": null,
            "align_items": null,
            "align_self": null,
            "border": null,
            "bottom": null,
            "display": null,
            "flex": null,
            "flex_flow": null,
            "grid_area": null,
            "grid_auto_columns": null,
            "grid_auto_flow": null,
            "grid_auto_rows": null,
            "grid_column": null,
            "grid_gap": null,
            "grid_row": null,
            "grid_template_areas": null,
            "grid_template_columns": null,
            "grid_template_rows": null,
            "height": null,
            "justify_content": null,
            "justify_items": null,
            "left": null,
            "margin": null,
            "max_height": null,
            "max_width": null,
            "min_height": null,
            "min_width": null,
            "object_fit": null,
            "object_position": null,
            "order": null,
            "overflow": null,
            "overflow_x": null,
            "overflow_y": null,
            "padding": null,
            "right": null,
            "top": null,
            "visibility": null,
            "width": null
          }
        },
        "5cfd4bd217264011ac1d8977bdb028b6": {
          "model_module": "@jupyter-widgets/controls",
          "model_module_version": "1.5.0",
          "model_name": "HTMLModel",
          "state": {
            "_dom_classes": [],
            "_model_module": "@jupyter-widgets/controls",
            "_model_module_version": "1.5.0",
            "_model_name": "HTMLModel",
            "_view_count": null,
            "_view_module": "@jupyter-widgets/controls",
            "_view_module_version": "1.5.0",
            "_view_name": "HTMLView",
            "description": "",
            "description_tooltip": null,
            "layout": "IPY_MODEL_0f0477e2129347b299b933cd1de30681",
            "placeholder": "​",
            "style": "IPY_MODEL_70eec085943f410a8edbcf097d7e8c6e",
            "value": "100%"
          }
        },
        "60ba7dcdf8264fc5b1fb94e1b90f77c6": {
          "model_module": "@jupyter-widgets/controls",
          "model_module_version": "1.5.0",
          "model_name": "HTMLModel",
          "state": {
            "_dom_classes": [],
            "_model_module": "@jupyter-widgets/controls",
            "_model_module_version": "1.5.0",
            "_model_name": "HTMLModel",
            "_view_count": null,
            "_view_module": "@jupyter-widgets/controls",
            "_view_module_version": "1.5.0",
            "_view_name": "HTMLView",
            "description": "",
            "description_tooltip": null,
            "layout": "IPY_MODEL_6e8f68eb02fd4b18825cf5a696a25118",
            "placeholder": "​",
            "style": "IPY_MODEL_898cb5356e1c46fea0eaa79ca6bb31ea",
            "value": " 6250/6250 [01:47&lt;00:00, 65.88it/s]"
          }
        },
        "641c1c8041e34a2b80eb9bf952dc5ac4": {
          "model_module": "@jupyter-widgets/controls",
          "model_module_version": "1.5.0",
          "model_name": "HTMLModel",
          "state": {
            "_dom_classes": [],
            "_model_module": "@jupyter-widgets/controls",
            "_model_module_version": "1.5.0",
            "_model_name": "HTMLModel",
            "_view_count": null,
            "_view_module": "@jupyter-widgets/controls",
            "_view_module_version": "1.5.0",
            "_view_name": "HTMLView",
            "description": "",
            "description_tooltip": null,
            "layout": "IPY_MODEL_6b63914c3bf64fb1a1341d734e15b407",
            "placeholder": "​",
            "style": "IPY_MODEL_c55de3b13acc4e7db1bde0e6777c9903",
            "value": " 6250/6250 [01:49&lt;00:00, 51.87it/s]"
          }
        },
        "6788d79a25f348f89c8e092da6a21995": {
          "model_module": "@jupyter-widgets/controls",
          "model_module_version": "1.5.0",
          "model_name": "FloatProgressModel",
          "state": {
            "_dom_classes": [],
            "_model_module": "@jupyter-widgets/controls",
            "_model_module_version": "1.5.0",
            "_model_name": "FloatProgressModel",
            "_view_count": null,
            "_view_module": "@jupyter-widgets/controls",
            "_view_module_version": "1.5.0",
            "_view_name": "ProgressView",
            "bar_style": "success",
            "description": "",
            "description_tooltip": null,
            "layout": "IPY_MODEL_f1cfb51952764064b37328a44466e652",
            "max": 4171,
            "min": 0,
            "orientation": "horizontal",
            "style": "IPY_MODEL_7e63aaf2a3f043948d18a6d5099e414a",
            "value": 4171
          }
        },
        "6b63914c3bf64fb1a1341d734e15b407": {
          "model_module": "@jupyter-widgets/base",
          "model_module_version": "1.2.0",
          "model_name": "LayoutModel",
          "state": {
            "_model_module": "@jupyter-widgets/base",
            "_model_module_version": "1.2.0",
            "_model_name": "LayoutModel",
            "_view_count": null,
            "_view_module": "@jupyter-widgets/base",
            "_view_module_version": "1.2.0",
            "_view_name": "LayoutView",
            "align_content": null,
            "align_items": null,
            "align_self": null,
            "border": null,
            "bottom": null,
            "display": null,
            "flex": null,
            "flex_flow": null,
            "grid_area": null,
            "grid_auto_columns": null,
            "grid_auto_flow": null,
            "grid_auto_rows": null,
            "grid_column": null,
            "grid_gap": null,
            "grid_row": null,
            "grid_template_areas": null,
            "grid_template_columns": null,
            "grid_template_rows": null,
            "height": null,
            "justify_content": null,
            "justify_items": null,
            "left": null,
            "margin": null,
            "max_height": null,
            "max_width": null,
            "min_height": null,
            "min_width": null,
            "object_fit": null,
            "object_position": null,
            "order": null,
            "overflow": null,
            "overflow_x": null,
            "overflow_y": null,
            "padding": null,
            "right": null,
            "top": null,
            "visibility": null,
            "width": null
          }
        },
        "6d43d9cffc9243589d33ce8f94258c48": {
          "model_module": "@jupyter-widgets/base",
          "model_module_version": "1.2.0",
          "model_name": "LayoutModel",
          "state": {
            "_model_module": "@jupyter-widgets/base",
            "_model_module_version": "1.2.0",
            "_model_name": "LayoutModel",
            "_view_count": null,
            "_view_module": "@jupyter-widgets/base",
            "_view_module_version": "1.2.0",
            "_view_name": "LayoutView",
            "align_content": null,
            "align_items": null,
            "align_self": null,
            "border": null,
            "bottom": null,
            "display": null,
            "flex": null,
            "flex_flow": null,
            "grid_area": null,
            "grid_auto_columns": null,
            "grid_auto_flow": null,
            "grid_auto_rows": null,
            "grid_column": null,
            "grid_gap": null,
            "grid_row": null,
            "grid_template_areas": null,
            "grid_template_columns": null,
            "grid_template_rows": null,
            "height": null,
            "justify_content": null,
            "justify_items": null,
            "left": null,
            "margin": null,
            "max_height": null,
            "max_width": null,
            "min_height": null,
            "min_width": null,
            "object_fit": null,
            "object_position": null,
            "order": null,
            "overflow": null,
            "overflow_x": null,
            "overflow_y": null,
            "padding": null,
            "right": null,
            "top": null,
            "visibility": null,
            "width": null
          }
        },
        "6e8f68eb02fd4b18825cf5a696a25118": {
          "model_module": "@jupyter-widgets/base",
          "model_module_version": "1.2.0",
          "model_name": "LayoutModel",
          "state": {
            "_model_module": "@jupyter-widgets/base",
            "_model_module_version": "1.2.0",
            "_model_name": "LayoutModel",
            "_view_count": null,
            "_view_module": "@jupyter-widgets/base",
            "_view_module_version": "1.2.0",
            "_view_name": "LayoutView",
            "align_content": null,
            "align_items": null,
            "align_self": null,
            "border": null,
            "bottom": null,
            "display": null,
            "flex": null,
            "flex_flow": null,
            "grid_area": null,
            "grid_auto_columns": null,
            "grid_auto_flow": null,
            "grid_auto_rows": null,
            "grid_column": null,
            "grid_gap": null,
            "grid_row": null,
            "grid_template_areas": null,
            "grid_template_columns": null,
            "grid_template_rows": null,
            "height": null,
            "justify_content": null,
            "justify_items": null,
            "left": null,
            "margin": null,
            "max_height": null,
            "max_width": null,
            "min_height": null,
            "min_width": null,
            "object_fit": null,
            "object_position": null,
            "order": null,
            "overflow": null,
            "overflow_x": null,
            "overflow_y": null,
            "padding": null,
            "right": null,
            "top": null,
            "visibility": null,
            "width": null
          }
        },
        "6f07960cadb44c2ab1c12e2be001d181": {
          "model_module": "@jupyter-widgets/base",
          "model_module_version": "1.2.0",
          "model_name": "LayoutModel",
          "state": {
            "_model_module": "@jupyter-widgets/base",
            "_model_module_version": "1.2.0",
            "_model_name": "LayoutModel",
            "_view_count": null,
            "_view_module": "@jupyter-widgets/base",
            "_view_module_version": "1.2.0",
            "_view_name": "LayoutView",
            "align_content": null,
            "align_items": null,
            "align_self": null,
            "border": null,
            "bottom": null,
            "display": null,
            "flex": null,
            "flex_flow": null,
            "grid_area": null,
            "grid_auto_columns": null,
            "grid_auto_flow": null,
            "grid_auto_rows": null,
            "grid_column": null,
            "grid_gap": null,
            "grid_row": null,
            "grid_template_areas": null,
            "grid_template_columns": null,
            "grid_template_rows": null,
            "height": null,
            "justify_content": null,
            "justify_items": null,
            "left": null,
            "margin": null,
            "max_height": null,
            "max_width": null,
            "min_height": null,
            "min_width": null,
            "object_fit": null,
            "object_position": null,
            "order": null,
            "overflow": null,
            "overflow_x": null,
            "overflow_y": null,
            "padding": null,
            "right": null,
            "top": null,
            "visibility": null,
            "width": null
          }
        },
        "6f865b3197cb47dcb7813803f9bd0232": {
          "model_module": "@jupyter-widgets/controls",
          "model_module_version": "1.5.0",
          "model_name": "HBoxModel",
          "state": {
            "_dom_classes": [],
            "_model_module": "@jupyter-widgets/controls",
            "_model_module_version": "1.5.0",
            "_model_name": "HBoxModel",
            "_view_count": null,
            "_view_module": "@jupyter-widgets/controls",
            "_view_module_version": "1.5.0",
            "_view_name": "HBoxView",
            "box_style": "",
            "children": [
              "IPY_MODEL_236ab48ada544eb6a4339d522c6efb89",
              "IPY_MODEL_03c33c2e97f3444192844f1bb9603851",
              "IPY_MODEL_ee7f763c22ca438093bc1bdbfba64c28"
            ],
            "layout": "IPY_MODEL_bff4c973a0c744999b4cc2906f2b5d1c"
          }
        },
        "70eec085943f410a8edbcf097d7e8c6e": {
          "model_module": "@jupyter-widgets/controls",
          "model_module_version": "1.5.0",
          "model_name": "DescriptionStyleModel",
          "state": {
            "_model_module": "@jupyter-widgets/controls",
            "_model_module_version": "1.5.0",
            "_model_name": "DescriptionStyleModel",
            "_view_count": null,
            "_view_module": "@jupyter-widgets/base",
            "_view_module_version": "1.2.0",
            "_view_name": "StyleView",
            "description_width": ""
          }
        },
        "71587c0b774f44669d7dd61b219d8675": {
          "model_module": "@jupyter-widgets/base",
          "model_module_version": "1.2.0",
          "model_name": "LayoutModel",
          "state": {
            "_model_module": "@jupyter-widgets/base",
            "_model_module_version": "1.2.0",
            "_model_name": "LayoutModel",
            "_view_count": null,
            "_view_module": "@jupyter-widgets/base",
            "_view_module_version": "1.2.0",
            "_view_name": "LayoutView",
            "align_content": null,
            "align_items": null,
            "align_self": null,
            "border": null,
            "bottom": null,
            "display": null,
            "flex": null,
            "flex_flow": null,
            "grid_area": null,
            "grid_auto_columns": null,
            "grid_auto_flow": null,
            "grid_auto_rows": null,
            "grid_column": null,
            "grid_gap": null,
            "grid_row": null,
            "grid_template_areas": null,
            "grid_template_columns": null,
            "grid_template_rows": null,
            "height": null,
            "justify_content": null,
            "justify_items": null,
            "left": null,
            "margin": null,
            "max_height": null,
            "max_width": null,
            "min_height": null,
            "min_width": null,
            "object_fit": null,
            "object_position": null,
            "order": null,
            "overflow": null,
            "overflow_x": null,
            "overflow_y": null,
            "padding": null,
            "right": null,
            "top": null,
            "visibility": null,
            "width": null
          }
        },
        "7da7ee6794334c33801c186aa134e856": {
          "model_module": "@jupyter-widgets/controls",
          "model_module_version": "1.5.0",
          "model_name": "ProgressStyleModel",
          "state": {
            "_model_module": "@jupyter-widgets/controls",
            "_model_module_version": "1.5.0",
            "_model_name": "ProgressStyleModel",
            "_view_count": null,
            "_view_module": "@jupyter-widgets/base",
            "_view_module_version": "1.2.0",
            "_view_name": "StyleView",
            "bar_color": null,
            "description_width": ""
          }
        },
        "7e63aaf2a3f043948d18a6d5099e414a": {
          "model_module": "@jupyter-widgets/controls",
          "model_module_version": "1.5.0",
          "model_name": "ProgressStyleModel",
          "state": {
            "_model_module": "@jupyter-widgets/controls",
            "_model_module_version": "1.5.0",
            "_model_name": "ProgressStyleModel",
            "_view_count": null,
            "_view_module": "@jupyter-widgets/base",
            "_view_module_version": "1.2.0",
            "_view_name": "StyleView",
            "bar_color": null,
            "description_width": ""
          }
        },
        "82b00d89b52b4909b402246dd3da333f": {
          "model_module": "@jupyter-widgets/controls",
          "model_module_version": "1.5.0",
          "model_name": "DescriptionStyleModel",
          "state": {
            "_model_module": "@jupyter-widgets/controls",
            "_model_module_version": "1.5.0",
            "_model_name": "DescriptionStyleModel",
            "_view_count": null,
            "_view_module": "@jupyter-widgets/base",
            "_view_module_version": "1.2.0",
            "_view_name": "StyleView",
            "description_width": ""
          }
        },
        "898cb5356e1c46fea0eaa79ca6bb31ea": {
          "model_module": "@jupyter-widgets/controls",
          "model_module_version": "1.5.0",
          "model_name": "DescriptionStyleModel",
          "state": {
            "_model_module": "@jupyter-widgets/controls",
            "_model_module_version": "1.5.0",
            "_model_name": "DescriptionStyleModel",
            "_view_count": null,
            "_view_module": "@jupyter-widgets/base",
            "_view_module_version": "1.2.0",
            "_view_name": "StyleView",
            "description_width": ""
          }
        },
        "89ebcbc7e5b140b899dd6ec0eb9558e5": {
          "model_module": "@jupyter-widgets/base",
          "model_module_version": "1.2.0",
          "model_name": "LayoutModel",
          "state": {
            "_model_module": "@jupyter-widgets/base",
            "_model_module_version": "1.2.0",
            "_model_name": "LayoutModel",
            "_view_count": null,
            "_view_module": "@jupyter-widgets/base",
            "_view_module_version": "1.2.0",
            "_view_name": "LayoutView",
            "align_content": null,
            "align_items": null,
            "align_self": null,
            "border": null,
            "bottom": null,
            "display": null,
            "flex": null,
            "flex_flow": null,
            "grid_area": null,
            "grid_auto_columns": null,
            "grid_auto_flow": null,
            "grid_auto_rows": null,
            "grid_column": null,
            "grid_gap": null,
            "grid_row": null,
            "grid_template_areas": null,
            "grid_template_columns": null,
            "grid_template_rows": null,
            "height": null,
            "justify_content": null,
            "justify_items": null,
            "left": null,
            "margin": null,
            "max_height": null,
            "max_width": null,
            "min_height": null,
            "min_width": null,
            "object_fit": null,
            "object_position": null,
            "order": null,
            "overflow": null,
            "overflow_x": null,
            "overflow_y": null,
            "padding": null,
            "right": null,
            "top": null,
            "visibility": null,
            "width": null
          }
        },
        "8c652992674e4ab78c238268341dc29d": {
          "model_module": "@jupyter-widgets/controls",
          "model_module_version": "1.5.0",
          "model_name": "FloatProgressModel",
          "state": {
            "_dom_classes": [],
            "_model_module": "@jupyter-widgets/controls",
            "_model_module_version": "1.5.0",
            "_model_name": "FloatProgressModel",
            "_view_count": null,
            "_view_module": "@jupyter-widgets/controls",
            "_view_module_version": "1.5.0",
            "_view_name": "ProgressView",
            "bar_style": "success",
            "description": "",
            "description_tooltip": null,
            "layout": "IPY_MODEL_a3a70f44a02f4ab2b8e53fbf27686b49",
            "max": 6250,
            "min": 0,
            "orientation": "horizontal",
            "style": "IPY_MODEL_3d277133ec974d9196087ba6ba665fe4",
            "value": 6250
          }
        },
        "8e74427a68a14c35af6a95c2c899300d": {
          "model_module": "@jupyter-widgets/base",
          "model_module_version": "1.2.0",
          "model_name": "LayoutModel",
          "state": {
            "_model_module": "@jupyter-widgets/base",
            "_model_module_version": "1.2.0",
            "_model_name": "LayoutModel",
            "_view_count": null,
            "_view_module": "@jupyter-widgets/base",
            "_view_module_version": "1.2.0",
            "_view_name": "LayoutView",
            "align_content": null,
            "align_items": null,
            "align_self": null,
            "border": null,
            "bottom": null,
            "display": null,
            "flex": null,
            "flex_flow": null,
            "grid_area": null,
            "grid_auto_columns": null,
            "grid_auto_flow": null,
            "grid_auto_rows": null,
            "grid_column": null,
            "grid_gap": null,
            "grid_row": null,
            "grid_template_areas": null,
            "grid_template_columns": null,
            "grid_template_rows": null,
            "height": null,
            "justify_content": null,
            "justify_items": null,
            "left": null,
            "margin": null,
            "max_height": null,
            "max_width": null,
            "min_height": null,
            "min_width": null,
            "object_fit": null,
            "object_position": null,
            "order": null,
            "overflow": null,
            "overflow_x": null,
            "overflow_y": null,
            "padding": null,
            "right": null,
            "top": null,
            "visibility": null,
            "width": null
          }
        },
        "8ed7df0e7c564308a5fb4c0e23b0f405": {
          "model_module": "@jupyter-widgets/controls",
          "model_module_version": "1.5.0",
          "model_name": "HBoxModel",
          "state": {
            "_dom_classes": [],
            "_model_module": "@jupyter-widgets/controls",
            "_model_module_version": "1.5.0",
            "_model_name": "HBoxModel",
            "_view_count": null,
            "_view_module": "@jupyter-widgets/controls",
            "_view_module_version": "1.5.0",
            "_view_name": "HBoxView",
            "box_style": "",
            "children": [
              "IPY_MODEL_1039293a41e74d469a9ec484e7a245f2",
              "IPY_MODEL_8c652992674e4ab78c238268341dc29d",
              "IPY_MODEL_60ba7dcdf8264fc5b1fb94e1b90f77c6"
            ],
            "layout": "IPY_MODEL_ef48f35151ec42c4b9eaf989c45fafff"
          }
        },
        "91da76e96f444ae98e7e54de3e4ee85c": {
          "model_module": "@jupyter-widgets/base",
          "model_module_version": "1.2.0",
          "model_name": "LayoutModel",
          "state": {
            "_model_module": "@jupyter-widgets/base",
            "_model_module_version": "1.2.0",
            "_model_name": "LayoutModel",
            "_view_count": null,
            "_view_module": "@jupyter-widgets/base",
            "_view_module_version": "1.2.0",
            "_view_name": "LayoutView",
            "align_content": null,
            "align_items": null,
            "align_self": null,
            "border": null,
            "bottom": null,
            "display": null,
            "flex": null,
            "flex_flow": null,
            "grid_area": null,
            "grid_auto_columns": null,
            "grid_auto_flow": null,
            "grid_auto_rows": null,
            "grid_column": null,
            "grid_gap": null,
            "grid_row": null,
            "grid_template_areas": null,
            "grid_template_columns": null,
            "grid_template_rows": null,
            "height": null,
            "justify_content": null,
            "justify_items": null,
            "left": null,
            "margin": null,
            "max_height": null,
            "max_width": null,
            "min_height": null,
            "min_width": null,
            "object_fit": null,
            "object_position": null,
            "order": null,
            "overflow": null,
            "overflow_x": null,
            "overflow_y": null,
            "padding": null,
            "right": null,
            "top": null,
            "visibility": null,
            "width": null
          }
        },
        "9d2541ec568e4cdaaf2e16647d720875": {
          "model_module": "@jupyter-widgets/controls",
          "model_module_version": "1.5.0",
          "model_name": "DescriptionStyleModel",
          "state": {
            "_model_module": "@jupyter-widgets/controls",
            "_model_module_version": "1.5.0",
            "_model_name": "DescriptionStyleModel",
            "_view_count": null,
            "_view_module": "@jupyter-widgets/base",
            "_view_module_version": "1.2.0",
            "_view_name": "StyleView",
            "description_width": ""
          }
        },
        "9e02f3b2a4b94c2c8df26fad43a47cb6": {
          "model_module": "@jupyter-widgets/base",
          "model_module_version": "1.2.0",
          "model_name": "LayoutModel",
          "state": {
            "_model_module": "@jupyter-widgets/base",
            "_model_module_version": "1.2.0",
            "_model_name": "LayoutModel",
            "_view_count": null,
            "_view_module": "@jupyter-widgets/base",
            "_view_module_version": "1.2.0",
            "_view_name": "LayoutView",
            "align_content": null,
            "align_items": null,
            "align_self": null,
            "border": null,
            "bottom": null,
            "display": null,
            "flex": null,
            "flex_flow": null,
            "grid_area": null,
            "grid_auto_columns": null,
            "grid_auto_flow": null,
            "grid_auto_rows": null,
            "grid_column": null,
            "grid_gap": null,
            "grid_row": null,
            "grid_template_areas": null,
            "grid_template_columns": null,
            "grid_template_rows": null,
            "height": null,
            "justify_content": null,
            "justify_items": null,
            "left": null,
            "margin": null,
            "max_height": null,
            "max_width": null,
            "min_height": null,
            "min_width": null,
            "object_fit": null,
            "object_position": null,
            "order": null,
            "overflow": null,
            "overflow_x": null,
            "overflow_y": null,
            "padding": null,
            "right": null,
            "top": null,
            "visibility": null,
            "width": null
          }
        },
        "a04a3e523ab142e2afb1728f4ce0378b": {
          "model_module": "@jupyter-widgets/controls",
          "model_module_version": "1.5.0",
          "model_name": "DescriptionStyleModel",
          "state": {
            "_model_module": "@jupyter-widgets/controls",
            "_model_module_version": "1.5.0",
            "_model_name": "DescriptionStyleModel",
            "_view_count": null,
            "_view_module": "@jupyter-widgets/base",
            "_view_module_version": "1.2.0",
            "_view_name": "StyleView",
            "description_width": ""
          }
        },
        "a3a70f44a02f4ab2b8e53fbf27686b49": {
          "model_module": "@jupyter-widgets/base",
          "model_module_version": "1.2.0",
          "model_name": "LayoutModel",
          "state": {
            "_model_module": "@jupyter-widgets/base",
            "_model_module_version": "1.2.0",
            "_model_name": "LayoutModel",
            "_view_count": null,
            "_view_module": "@jupyter-widgets/base",
            "_view_module_version": "1.2.0",
            "_view_name": "LayoutView",
            "align_content": null,
            "align_items": null,
            "align_self": null,
            "border": null,
            "bottom": null,
            "display": null,
            "flex": null,
            "flex_flow": null,
            "grid_area": null,
            "grid_auto_columns": null,
            "grid_auto_flow": null,
            "grid_auto_rows": null,
            "grid_column": null,
            "grid_gap": null,
            "grid_row": null,
            "grid_template_areas": null,
            "grid_template_columns": null,
            "grid_template_rows": null,
            "height": null,
            "justify_content": null,
            "justify_items": null,
            "left": null,
            "margin": null,
            "max_height": null,
            "max_width": null,
            "min_height": null,
            "min_width": null,
            "object_fit": null,
            "object_position": null,
            "order": null,
            "overflow": null,
            "overflow_x": null,
            "overflow_y": null,
            "padding": null,
            "right": null,
            "top": null,
            "visibility": null,
            "width": null
          }
        },
        "a497b60448244152a096ef3a00c03416": {
          "model_module": "@jupyter-widgets/controls",
          "model_module_version": "1.5.0",
          "model_name": "DescriptionStyleModel",
          "state": {
            "_model_module": "@jupyter-widgets/controls",
            "_model_module_version": "1.5.0",
            "_model_name": "DescriptionStyleModel",
            "_view_count": null,
            "_view_module": "@jupyter-widgets/base",
            "_view_module_version": "1.2.0",
            "_view_name": "StyleView",
            "description_width": ""
          }
        },
        "a552e941d6bf461999c33e199d61d398": {
          "model_module": "@jupyter-widgets/controls",
          "model_module_version": "1.5.0",
          "model_name": "FloatProgressModel",
          "state": {
            "_dom_classes": [],
            "_model_module": "@jupyter-widgets/controls",
            "_model_module_version": "1.5.0",
            "_model_name": "FloatProgressModel",
            "_view_count": null,
            "_view_module": "@jupyter-widgets/controls",
            "_view_module_version": "1.5.0",
            "_view_name": "ProgressView",
            "bar_style": "success",
            "description": "",
            "description_tooltip": null,
            "layout": "IPY_MODEL_9e02f3b2a4b94c2c8df26fad43a47cb6",
            "max": 6250,
            "min": 0,
            "orientation": "horizontal",
            "style": "IPY_MODEL_1b3415b80a204c94836957d1f774ca0a",
            "value": 6250
          }
        },
        "a5de738e1a98409e9f920f968885196f": {
          "model_module": "@jupyter-widgets/controls",
          "model_module_version": "1.5.0",
          "model_name": "HBoxModel",
          "state": {
            "_dom_classes": [],
            "_model_module": "@jupyter-widgets/controls",
            "_model_module_version": "1.5.0",
            "_model_name": "HBoxModel",
            "_view_count": null,
            "_view_module": "@jupyter-widgets/controls",
            "_view_module_version": "1.5.0",
            "_view_name": "HBoxView",
            "box_style": "",
            "children": [
              "IPY_MODEL_5cfd4bd217264011ac1d8977bdb028b6",
              "IPY_MODEL_146ea5fa21194398a1c2c4d6c61b8714",
              "IPY_MODEL_aaa5b6923f194d96b157639c25eab1ca"
            ],
            "layout": "IPY_MODEL_b37d313b090b40b89d3dc7bd3b084aaf"
          }
        },
        "aaa5b6923f194d96b157639c25eab1ca": {
          "model_module": "@jupyter-widgets/controls",
          "model_module_version": "1.5.0",
          "model_name": "HTMLModel",
          "state": {
            "_dom_classes": [],
            "_model_module": "@jupyter-widgets/controls",
            "_model_module_version": "1.5.0",
            "_model_name": "HTMLModel",
            "_view_count": null,
            "_view_module": "@jupyter-widgets/controls",
            "_view_module_version": "1.5.0",
            "_view_name": "HTMLView",
            "description": "",
            "description_tooltip": null,
            "layout": "IPY_MODEL_4d0e695ccca64c8aaa942b9be339afb8",
            "placeholder": "​",
            "style": "IPY_MODEL_fcabb1b99bfa4da6b092a5c227c59439",
            "value": " 6250/6250 [01:47&lt;00:00, 63.74it/s]"
          }
        },
        "aca3d39def4d4798bb8f390f763cbb04": {
          "model_module": "@jupyter-widgets/base",
          "model_module_version": "1.2.0",
          "model_name": "LayoutModel",
          "state": {
            "_model_module": "@jupyter-widgets/base",
            "_model_module_version": "1.2.0",
            "_model_name": "LayoutModel",
            "_view_count": null,
            "_view_module": "@jupyter-widgets/base",
            "_view_module_version": "1.2.0",
            "_view_name": "LayoutView",
            "align_content": null,
            "align_items": null,
            "align_self": null,
            "border": null,
            "bottom": null,
            "display": null,
            "flex": null,
            "flex_flow": null,
            "grid_area": null,
            "grid_auto_columns": null,
            "grid_auto_flow": null,
            "grid_auto_rows": null,
            "grid_column": null,
            "grid_gap": null,
            "grid_row": null,
            "grid_template_areas": null,
            "grid_template_columns": null,
            "grid_template_rows": null,
            "height": null,
            "justify_content": null,
            "justify_items": null,
            "left": null,
            "margin": null,
            "max_height": null,
            "max_width": null,
            "min_height": null,
            "min_width": null,
            "object_fit": null,
            "object_position": null,
            "order": null,
            "overflow": null,
            "overflow_x": null,
            "overflow_y": null,
            "padding": null,
            "right": null,
            "top": null,
            "visibility": null,
            "width": null
          }
        },
        "b168232a950f473e88daf39779e7d75a": {
          "model_module": "@jupyter-widgets/controls",
          "model_module_version": "1.5.0",
          "model_name": "HBoxModel",
          "state": {
            "_dom_classes": [],
            "_model_module": "@jupyter-widgets/controls",
            "_model_module_version": "1.5.0",
            "_model_name": "HBoxModel",
            "_view_count": null,
            "_view_module": "@jupyter-widgets/controls",
            "_view_module_version": "1.5.0",
            "_view_name": "HBoxView",
            "box_style": "",
            "children": [
              "IPY_MODEL_e0056021d0864c5e8a9e85d6bd431de8",
              "IPY_MODEL_a552e941d6bf461999c33e199d61d398",
              "IPY_MODEL_641c1c8041e34a2b80eb9bf952dc5ac4"
            ],
            "layout": "IPY_MODEL_14c845feb0c24a1f82d88a77f18415e3"
          }
        },
        "b37d313b090b40b89d3dc7bd3b084aaf": {
          "model_module": "@jupyter-widgets/base",
          "model_module_version": "1.2.0",
          "model_name": "LayoutModel",
          "state": {
            "_model_module": "@jupyter-widgets/base",
            "_model_module_version": "1.2.0",
            "_model_name": "LayoutModel",
            "_view_count": null,
            "_view_module": "@jupyter-widgets/base",
            "_view_module_version": "1.2.0",
            "_view_name": "LayoutView",
            "align_content": null,
            "align_items": null,
            "align_self": null,
            "border": null,
            "bottom": null,
            "display": null,
            "flex": null,
            "flex_flow": null,
            "grid_area": null,
            "grid_auto_columns": null,
            "grid_auto_flow": null,
            "grid_auto_rows": null,
            "grid_column": null,
            "grid_gap": null,
            "grid_row": null,
            "grid_template_areas": null,
            "grid_template_columns": null,
            "grid_template_rows": null,
            "height": null,
            "justify_content": null,
            "justify_items": null,
            "left": null,
            "margin": null,
            "max_height": null,
            "max_width": null,
            "min_height": null,
            "min_width": null,
            "object_fit": null,
            "object_position": null,
            "order": null,
            "overflow": null,
            "overflow_x": null,
            "overflow_y": null,
            "padding": null,
            "right": null,
            "top": null,
            "visibility": null,
            "width": null
          }
        },
        "bfa13acdd9e04a0f8f7641ba0b2f6ed1": {
          "model_module": "@jupyter-widgets/controls",
          "model_module_version": "1.5.0",
          "model_name": "ProgressStyleModel",
          "state": {
            "_model_module": "@jupyter-widgets/controls",
            "_model_module_version": "1.5.0",
            "_model_name": "ProgressStyleModel",
            "_view_count": null,
            "_view_module": "@jupyter-widgets/base",
            "_view_module_version": "1.2.0",
            "_view_name": "StyleView",
            "bar_color": null,
            "description_width": ""
          }
        },
        "bfa6d1c438824259ab8b7d334f736405": {
          "model_module": "@jupyter-widgets/base",
          "model_module_version": "1.2.0",
          "model_name": "LayoutModel",
          "state": {
            "_model_module": "@jupyter-widgets/base",
            "_model_module_version": "1.2.0",
            "_model_name": "LayoutModel",
            "_view_count": null,
            "_view_module": "@jupyter-widgets/base",
            "_view_module_version": "1.2.0",
            "_view_name": "LayoutView",
            "align_content": null,
            "align_items": null,
            "align_self": null,
            "border": null,
            "bottom": null,
            "display": null,
            "flex": null,
            "flex_flow": null,
            "grid_area": null,
            "grid_auto_columns": null,
            "grid_auto_flow": null,
            "grid_auto_rows": null,
            "grid_column": null,
            "grid_gap": null,
            "grid_row": null,
            "grid_template_areas": null,
            "grid_template_columns": null,
            "grid_template_rows": null,
            "height": null,
            "justify_content": null,
            "justify_items": null,
            "left": null,
            "margin": null,
            "max_height": null,
            "max_width": null,
            "min_height": null,
            "min_width": null,
            "object_fit": null,
            "object_position": null,
            "order": null,
            "overflow": null,
            "overflow_x": null,
            "overflow_y": null,
            "padding": null,
            "right": null,
            "top": null,
            "visibility": null,
            "width": null
          }
        },
        "bff4c973a0c744999b4cc2906f2b5d1c": {
          "model_module": "@jupyter-widgets/base",
          "model_module_version": "1.2.0",
          "model_name": "LayoutModel",
          "state": {
            "_model_module": "@jupyter-widgets/base",
            "_model_module_version": "1.2.0",
            "_model_name": "LayoutModel",
            "_view_count": null,
            "_view_module": "@jupyter-widgets/base",
            "_view_module_version": "1.2.0",
            "_view_name": "LayoutView",
            "align_content": null,
            "align_items": null,
            "align_self": null,
            "border": null,
            "bottom": null,
            "display": null,
            "flex": null,
            "flex_flow": null,
            "grid_area": null,
            "grid_auto_columns": null,
            "grid_auto_flow": null,
            "grid_auto_rows": null,
            "grid_column": null,
            "grid_gap": null,
            "grid_row": null,
            "grid_template_areas": null,
            "grid_template_columns": null,
            "grid_template_rows": null,
            "height": null,
            "justify_content": null,
            "justify_items": null,
            "left": null,
            "margin": null,
            "max_height": null,
            "max_width": null,
            "min_height": null,
            "min_width": null,
            "object_fit": null,
            "object_position": null,
            "order": null,
            "overflow": null,
            "overflow_x": null,
            "overflow_y": null,
            "padding": null,
            "right": null,
            "top": null,
            "visibility": null,
            "width": null
          }
        },
        "c55de3b13acc4e7db1bde0e6777c9903": {
          "model_module": "@jupyter-widgets/controls",
          "model_module_version": "1.5.0",
          "model_name": "DescriptionStyleModel",
          "state": {
            "_model_module": "@jupyter-widgets/controls",
            "_model_module_version": "1.5.0",
            "_model_name": "DescriptionStyleModel",
            "_view_count": null,
            "_view_module": "@jupyter-widgets/base",
            "_view_module_version": "1.2.0",
            "_view_name": "StyleView",
            "description_width": ""
          }
        },
        "c78eef3c4a0046ed8eca7f9df4ccfa57": {
          "model_module": "@jupyter-widgets/controls",
          "model_module_version": "1.5.0",
          "model_name": "ProgressStyleModel",
          "state": {
            "_model_module": "@jupyter-widgets/controls",
            "_model_module_version": "1.5.0",
            "_model_name": "ProgressStyleModel",
            "_view_count": null,
            "_view_module": "@jupyter-widgets/base",
            "_view_module_version": "1.2.0",
            "_view_name": "StyleView",
            "bar_color": null,
            "description_width": ""
          }
        },
        "d255185ff047473698c31c241d4909ed": {
          "model_module": "@jupyter-widgets/controls",
          "model_module_version": "1.5.0",
          "model_name": "DescriptionStyleModel",
          "state": {
            "_model_module": "@jupyter-widgets/controls",
            "_model_module_version": "1.5.0",
            "_model_name": "DescriptionStyleModel",
            "_view_count": null,
            "_view_module": "@jupyter-widgets/base",
            "_view_module_version": "1.2.0",
            "_view_name": "StyleView",
            "description_width": ""
          }
        },
        "decc4a29d10a4fada1d62404a58c64cc": {
          "model_module": "@jupyter-widgets/controls",
          "model_module_version": "1.5.0",
          "model_name": "HTMLModel",
          "state": {
            "_dom_classes": [],
            "_model_module": "@jupyter-widgets/controls",
            "_model_module_version": "1.5.0",
            "_model_name": "HTMLModel",
            "_view_count": null,
            "_view_module": "@jupyter-widgets/controls",
            "_view_module_version": "1.5.0",
            "_view_name": "HTMLView",
            "description": "",
            "description_tooltip": null,
            "layout": "IPY_MODEL_6f07960cadb44c2ab1c12e2be001d181",
            "placeholder": "​",
            "style": "IPY_MODEL_a497b60448244152a096ef3a00c03416",
            "value": "100%"
          }
        },
        "e0056021d0864c5e8a9e85d6bd431de8": {
          "model_module": "@jupyter-widgets/controls",
          "model_module_version": "1.5.0",
          "model_name": "HTMLModel",
          "state": {
            "_dom_classes": [],
            "_model_module": "@jupyter-widgets/controls",
            "_model_module_version": "1.5.0",
            "_model_name": "HTMLModel",
            "_view_count": null,
            "_view_module": "@jupyter-widgets/controls",
            "_view_module_version": "1.5.0",
            "_view_name": "HTMLView",
            "description": "",
            "description_tooltip": null,
            "layout": "IPY_MODEL_8e74427a68a14c35af6a95c2c899300d",
            "placeholder": "​",
            "style": "IPY_MODEL_41f1d5a6ace24454a3edace8627163a3",
            "value": "100%"
          }
        },
        "e7d0c129d880498984af0d8cf0472d00": {
          "model_module": "@jupyter-widgets/base",
          "model_module_version": "1.2.0",
          "model_name": "LayoutModel",
          "state": {
            "_model_module": "@jupyter-widgets/base",
            "_model_module_version": "1.2.0",
            "_model_name": "LayoutModel",
            "_view_count": null,
            "_view_module": "@jupyter-widgets/base",
            "_view_module_version": "1.2.0",
            "_view_name": "LayoutView",
            "align_content": null,
            "align_items": null,
            "align_self": null,
            "border": null,
            "bottom": null,
            "display": null,
            "flex": null,
            "flex_flow": null,
            "grid_area": null,
            "grid_auto_columns": null,
            "grid_auto_flow": null,
            "grid_auto_rows": null,
            "grid_column": null,
            "grid_gap": null,
            "grid_row": null,
            "grid_template_areas": null,
            "grid_template_columns": null,
            "grid_template_rows": null,
            "height": null,
            "justify_content": null,
            "justify_items": null,
            "left": null,
            "margin": null,
            "max_height": null,
            "max_width": null,
            "min_height": null,
            "min_width": null,
            "object_fit": null,
            "object_position": null,
            "order": null,
            "overflow": null,
            "overflow_x": null,
            "overflow_y": null,
            "padding": null,
            "right": null,
            "top": null,
            "visibility": null,
            "width": null
          }
        },
        "e96abcc721344654a13c0304048b2ea7": {
          "model_module": "@jupyter-widgets/controls",
          "model_module_version": "1.5.0",
          "model_name": "DescriptionStyleModel",
          "state": {
            "_model_module": "@jupyter-widgets/controls",
            "_model_module_version": "1.5.0",
            "_model_name": "DescriptionStyleModel",
            "_view_count": null,
            "_view_module": "@jupyter-widgets/base",
            "_view_module_version": "1.2.0",
            "_view_name": "StyleView",
            "description_width": ""
          }
        },
        "ee7f763c22ca438093bc1bdbfba64c28": {
          "model_module": "@jupyter-widgets/controls",
          "model_module_version": "1.5.0",
          "model_name": "HTMLModel",
          "state": {
            "_dom_classes": [],
            "_model_module": "@jupyter-widgets/controls",
            "_model_module_version": "1.5.0",
            "_model_name": "HTMLModel",
            "_view_count": null,
            "_view_module": "@jupyter-widgets/controls",
            "_view_module_version": "1.5.0",
            "_view_name": "HTMLView",
            "description": "",
            "description_tooltip": null,
            "layout": "IPY_MODEL_91da76e96f444ae98e7e54de3e4ee85c",
            "placeholder": "​",
            "style": "IPY_MODEL_27dc1afeebea493c84fbf5df5fa34d66",
            "value": " 4171/4171 [01:25&lt;00:00, 16.14it/s]"
          }
        },
        "ef48f35151ec42c4b9eaf989c45fafff": {
          "model_module": "@jupyter-widgets/base",
          "model_module_version": "1.2.0",
          "model_name": "LayoutModel",
          "state": {
            "_model_module": "@jupyter-widgets/base",
            "_model_module_version": "1.2.0",
            "_model_name": "LayoutModel",
            "_view_count": null,
            "_view_module": "@jupyter-widgets/base",
            "_view_module_version": "1.2.0",
            "_view_name": "LayoutView",
            "align_content": null,
            "align_items": null,
            "align_self": null,
            "border": null,
            "bottom": null,
            "display": null,
            "flex": null,
            "flex_flow": null,
            "grid_area": null,
            "grid_auto_columns": null,
            "grid_auto_flow": null,
            "grid_auto_rows": null,
            "grid_column": null,
            "grid_gap": null,
            "grid_row": null,
            "grid_template_areas": null,
            "grid_template_columns": null,
            "grid_template_rows": null,
            "height": null,
            "justify_content": null,
            "justify_items": null,
            "left": null,
            "margin": null,
            "max_height": null,
            "max_width": null,
            "min_height": null,
            "min_width": null,
            "object_fit": null,
            "object_position": null,
            "order": null,
            "overflow": null,
            "overflow_x": null,
            "overflow_y": null,
            "padding": null,
            "right": null,
            "top": null,
            "visibility": null,
            "width": null
          }
        },
        "f1cfb51952764064b37328a44466e652": {
          "model_module": "@jupyter-widgets/base",
          "model_module_version": "1.2.0",
          "model_name": "LayoutModel",
          "state": {
            "_model_module": "@jupyter-widgets/base",
            "_model_module_version": "1.2.0",
            "_model_name": "LayoutModel",
            "_view_count": null,
            "_view_module": "@jupyter-widgets/base",
            "_view_module_version": "1.2.0",
            "_view_name": "LayoutView",
            "align_content": null,
            "align_items": null,
            "align_self": null,
            "border": null,
            "bottom": null,
            "display": null,
            "flex": null,
            "flex_flow": null,
            "grid_area": null,
            "grid_auto_columns": null,
            "grid_auto_flow": null,
            "grid_auto_rows": null,
            "grid_column": null,
            "grid_gap": null,
            "grid_row": null,
            "grid_template_areas": null,
            "grid_template_columns": null,
            "grid_template_rows": null,
            "height": null,
            "justify_content": null,
            "justify_items": null,
            "left": null,
            "margin": null,
            "max_height": null,
            "max_width": null,
            "min_height": null,
            "min_width": null,
            "object_fit": null,
            "object_position": null,
            "order": null,
            "overflow": null,
            "overflow_x": null,
            "overflow_y": null,
            "padding": null,
            "right": null,
            "top": null,
            "visibility": null,
            "width": null
          }
        },
        "fcabb1b99bfa4da6b092a5c227c59439": {
          "model_module": "@jupyter-widgets/controls",
          "model_module_version": "1.5.0",
          "model_name": "DescriptionStyleModel",
          "state": {
            "_model_module": "@jupyter-widgets/controls",
            "_model_module_version": "1.5.0",
            "_model_name": "DescriptionStyleModel",
            "_view_count": null,
            "_view_module": "@jupyter-widgets/base",
            "_view_module_version": "1.2.0",
            "_view_name": "StyleView",
            "description_width": ""
          }
        }
      }
    }
  },
  "nbformat": 4,
  "nbformat_minor": 0
}
